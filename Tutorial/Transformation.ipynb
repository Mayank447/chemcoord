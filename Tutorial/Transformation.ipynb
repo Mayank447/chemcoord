{
 "cells": [
  {
   "cell_type": "markdown",
   "metadata": {},
   "source": [
    "# Transformation between internal and cartesian coordinates"
   ]
  },
  {
   "cell_type": "code",
   "execution_count": 1,
   "metadata": {
    "collapsed": true
   },
   "outputs": [],
   "source": [
    "import chemcoord as cc\n",
    "import time"
   ]
  },
  {
   "cell_type": "code",
   "execution_count": 2,
   "metadata": {
    "collapsed": true
   },
   "outputs": [],
   "source": [
    "water = cc.Cartesian.read_xyz('water_dimer.xyz', start_index=1).give_zmat()\n",
    "small = cc.Cartesian.read_xyz('MIL53_small.xyz', start_index=1).give_zmat()"
   ]
  },
  {
   "cell_type": "markdown",
   "metadata": {},
   "source": [
    "# Naming convention"
   ]
  },
  {
   "cell_type": "markdown",
   "metadata": {},
   "source": [
    "The table which defines the used references of each atom will be called\n",
    "**construction table**.\n",
    "\n",
    "The contruction table of the zmatrix of the water dimer can be seen here:"
   ]
  },
  {
   "cell_type": "code",
   "execution_count": 4,
   "metadata": {},
   "outputs": [
    {
     "data": {
      "text/html": [
       "<div>\n",
       "<style>\n",
       "    .dataframe thead tr:only-child th {\n",
       "        text-align: right;\n",
       "    }\n",
       "\n",
       "    .dataframe thead th {\n",
       "        text-align: left;\n",
       "    }\n",
       "\n",
       "    .dataframe tbody tr th {\n",
       "        vertical-align: top;\n",
       "    }\n",
       "</style>\n",
       "<table border=\"1\" class=\"dataframe\">\n",
       "  <thead>\n",
       "    <tr style=\"text-align: right;\">\n",
       "      <th></th>\n",
       "      <th>b</th>\n",
       "      <th>a</th>\n",
       "      <th>d</th>\n",
       "    </tr>\n",
       "  </thead>\n",
       "  <tbody>\n",
       "    <tr>\n",
       "      <th>1</th>\n",
       "      <td>-9223372036854775808</td>\n",
       "      <td>-9223372036854775805</td>\n",
       "      <td>-9223372036854775807</td>\n",
       "    </tr>\n",
       "    <tr>\n",
       "      <th>2</th>\n",
       "      <td>1</td>\n",
       "      <td>-9223372036854775805</td>\n",
       "      <td>-9223372036854775807</td>\n",
       "    </tr>\n",
       "    <tr>\n",
       "      <th>3</th>\n",
       "      <td>1</td>\n",
       "      <td>2</td>\n",
       "      <td>-9223372036854775807</td>\n",
       "    </tr>\n",
       "    <tr>\n",
       "      <th>4</th>\n",
       "      <td>2</td>\n",
       "      <td>1</td>\n",
       "      <td>3</td>\n",
       "    </tr>\n",
       "    <tr>\n",
       "      <th>5</th>\n",
       "      <td>4</td>\n",
       "      <td>2</td>\n",
       "      <td>1</td>\n",
       "    </tr>\n",
       "    <tr>\n",
       "      <th>6</th>\n",
       "      <td>4</td>\n",
       "      <td>5</td>\n",
       "      <td>2</td>\n",
       "    </tr>\n",
       "  </tbody>\n",
       "</table>\n",
       "</div>"
      ],
      "text/plain": [
       "                     b                    a                    d\n",
       "1 -9223372036854775808 -9223372036854775805 -9223372036854775807\n",
       "2                    1 -9223372036854775805 -9223372036854775807\n",
       "3                    1                    2 -9223372036854775807\n",
       "4                    2                    1                    3\n",
       "5                    4                    2                    1\n",
       "6                    4                    5                    2"
      ]
     },
     "execution_count": 4,
     "metadata": {},
     "output_type": "execute_result"
    }
   ],
   "source": [
    "water.loc[:, ['b', 'a', 'd']]"
   ]
  },
  {
   "cell_type": "markdown",
   "metadata": {},
   "source": [
    "The absolute references are indicated by magic numbers ``-(sys.maxsize + 1)``."
   ]
  },
  {
   "cell_type": "markdown",
   "metadata": {},
   "source": [
    "* The atom which is to be set in the reference of three other atoms, is denoted $i$.\n",
    "* The bond-defining atom is represented by $b$.\n",
    "* The angle-defining atom is represented by $a$.\n",
    "* The dihedral-defining atom is represented by $d$."
   ]
  },
  {
   "cell_type": "markdown",
   "metadata": {},
   "source": [
    "# Mathematical introduction"
   ]
  },
  {
   "cell_type": "markdown",
   "metadata": {},
   "source": [
    "It is advantageous to treat a zmatrix simply as recursive spherical coordinates.\n",
    "\n",
    "The $(n + 1)$-th atom uses three of the previous $n$ atoms as reference.\n",
    "Those three atoms ($b, a, d$) are spanning a coordinate system, if we require righthandedness.\n",
    "If we express the position of the atom $i$ in respect to this locally spanned coordinate system using\n",
    "spherical coordinates, we arrive at the usual definition of a zmatrix.\n",
    "\n",
    "\n",
    "PS: The question about right- or lefthandedness is equivalent to specifying a direction of rotation.\n",
    "Chemcoord uses of course the [IUPAC definition](https://goldbook.iupac.org/html/T/T06406.html)."
   ]
  },
  {
   "cell_type": "markdown",
   "metadata": {},
   "source": [
    "#### Ideal case"
   ]
  },
  {
   "cell_type": "markdown",
   "metadata": {},
   "source": [
    "The ideal (and luckily most common) case is, that $\\vec{ib}$, $\\vec{ba}$, and $\\vec{ad}$ are linearly independent.\n",
    "In this case there exist a bijective mapping between spherical coordinates and cartesian coordinates and all angles, positions... are well defined."
   ]
  },
  {
   "cell_type": "markdown",
   "metadata": {},
   "source": [
    "![Ideal case](ideal_coordinate.png \"Ideal case\")"
   ]
  },
  {
   "cell_type": "markdown",
   "metadata": {},
   "source": [
    "#### Linear angle"
   ]
  },
  {
   "cell_type": "markdown",
   "metadata": {},
   "source": [
    "One pathologic case appears, if $\\vec{ib}$ and $\\vec{ba}$ are linear dependent.\n",
    "\n",
    "This means, that the angle in the zmatrix is either $0^\\circ$ or $180^\\circ$.\n",
    "In this case there are infinitely many dihedral angles for the same configuration in cartesian space.\n",
    "Or to say it in a more analytical way:\n",
    "The transformation from spherical coordinates to cartesian coordinates is surjective, but not injective.\n",
    "\n",
    "For nearly all cases (e.g. expressing the potential-hyper-surface in terms of internal coordinates), the surjectivity property is sufficient.\n",
    "\n",
    "A lot of other problematic cases can be automatically solved by assigning a default value to the dihedral angle by definition ($0^\\circ$ in the case of chemcoord).\n",
    "\n",
    "Usually the user does not need to think about this case, which is automatically handled by chemcoord."
   ]
  },
  {
   "cell_type": "markdown",
   "metadata": {},
   "source": [
    "![Linear angle](linear_angle.png \"Linear angle\")"
   ]
  },
  {
   "cell_type": "markdown",
   "metadata": {},
   "source": [
    "#### Linear reference"
   ]
  },
  {
   "cell_type": "markdown",
   "metadata": {},
   "source": [
    "The real pathologic case appears, if the three reference atoms used by "
   ]
  },
  {
   "cell_type": "markdown",
   "metadata": {},
   "source": [
    "![Linear dihedral](linear_dihedral.png \"Linear dihedral\")"
   ]
  },
  {
   "cell_type": "markdown",
   "metadata": {
    "collapsed": true
   },
   "source": [
    "# Symbolic evaluation"
   ]
  },
  {
   "cell_type": "markdown",
   "metadata": {},
   "source": [
    "It is possible to use symbolic expressions from sympy."
   ]
  },
  {
   "cell_type": "code",
   "execution_count": 8,
   "metadata": {
    "collapsed": true
   },
   "outputs": [],
   "source": [
    "import sympy\n",
    "sympy.init_printing()\n",
    "d = sympy.Symbol('d')"
   ]
  },
  {
   "cell_type": "code",
   "execution_count": 23,
   "metadata": {
    "collapsed": true
   },
   "outputs": [],
   "source": [
    "symb_water = water.copy()"
   ]
  },
  {
   "cell_type": "code",
   "execution_count": 24,
   "metadata": {
    "collapsed": true
   },
   "outputs": [],
   "source": [
    "symb_water.safe_loc[4, 'bond'] = d"
   ]
  },
  {
   "cell_type": "code",
   "execution_count": 25,
   "metadata": {},
   "outputs": [
    {
     "data": {
      "text/html": [
       "<div>\n",
       "<style>\n",
       "    .dataframe thead tr:only-child th {\n",
       "        text-align: right;\n",
       "    }\n",
       "\n",
       "    .dataframe thead th {\n",
       "        text-align: left;\n",
       "    }\n",
       "\n",
       "    .dataframe tbody tr th {\n",
       "        vertical-align: top;\n",
       "    }\n",
       "</style>\n",
       "<table border=\"1\" class=\"dataframe\">\n",
       "  <caption>Zmat</caption>\n",
       "<thead>\n",
       "    <tr style=\"text-align: right;\">\n",
       "      <th></th>\n",
       "      <th>atom</th>\n",
       "      <th>b</th>\n",
       "      <th>bond</th>\n",
       "      <th>a</th>\n",
       "      <th>angle</th>\n",
       "      <th>d</th>\n",
       "      <th>dihedral</th>\n",
       "    </tr>\n",
       "  </thead>\n",
       "  <tbody>\n",
       "    <tr>\n",
       "      <th>1</th>\n",
       "      <td>O</td>\n",
       "      <td>$\\vec{0}$</td>\n",
       "      <td>0</td>\n",
       "      <td>$\\vec{e_z}$</td>\n",
       "      <td>0.000000</td>\n",
       "      <td>$\\vec{e_x}$</td>\n",
       "      <td>0.000000</td>\n",
       "    </tr>\n",
       "    <tr>\n",
       "      <th>2</th>\n",
       "      <td>H</td>\n",
       "      <td>1</td>\n",
       "      <td>0.910922</td>\n",
       "      <td>$\\vec{e_z}$</td>\n",
       "      <td>56.385853</td>\n",
       "      <td>$\\vec{e_x}$</td>\n",
       "      <td>0.000000</td>\n",
       "    </tr>\n",
       "    <tr>\n",
       "      <th>3</th>\n",
       "      <td>H</td>\n",
       "      <td>1</td>\n",
       "      <td>0.910922</td>\n",
       "      <td>2</td>\n",
       "      <td>107.000024</td>\n",
       "      <td>$\\vec{e_x}$</td>\n",
       "      <td>0.000000</td>\n",
       "    </tr>\n",
       "    <tr>\n",
       "      <th>4</th>\n",
       "      <td>O</td>\n",
       "      <td>2</td>\n",
       "      <td>$d$</td>\n",
       "      <td>1</td>\n",
       "      <td>132.466298</td>\n",
       "      <td>3</td>\n",
       "      <td>343.244987</td>\n",
       "    </tr>\n",
       "    <tr>\n",
       "      <th>5</th>\n",
       "      <td>H</td>\n",
       "      <td>4</td>\n",
       "      <td>0.910922</td>\n",
       "      <td>2</td>\n",
       "      <td>132.466298</td>\n",
       "      <td>1</td>\n",
       "      <td>180.000000</td>\n",
       "    </tr>\n",
       "    <tr>\n",
       "      <th>6</th>\n",
       "      <td>H</td>\n",
       "      <td>4</td>\n",
       "      <td>0.910922</td>\n",
       "      <td>5</td>\n",
       "      <td>107.000024</td>\n",
       "      <td>2</td>\n",
       "      <td>163.244987</td>\n",
       "    </tr>\n",
       "  </tbody>\n",
       "</table>\n",
       "</div>"
      ],
      "text/plain": [
       "  atom                    b      bond                    a       angle  \\\n",
       "1    O -9223372036854775808         0 -9223372036854775805    0.000000   \n",
       "2    H                    1  0.910922 -9223372036854775805   56.385853   \n",
       "3    H                    1  0.910922                    2  107.000024   \n",
       "4    O                    2         d                    1  132.466298   \n",
       "5    H                    4  0.910922                    2  132.466298   \n",
       "6    H                    4  0.910922                    5  107.000024   \n",
       "\n",
       "                     d    dihedral  \n",
       "1 -9223372036854775807    0.000000  \n",
       "2 -9223372036854775807    0.000000  \n",
       "3 -9223372036854775807    0.000000  \n",
       "4                    3  343.244987  \n",
       "5                    1  180.000000  \n",
       "6                    2  163.244987  "
      ]
     },
     "execution_count": 25,
     "metadata": {},
     "output_type": "execute_result"
    }
   ],
   "source": [
    "symb_water"
   ]
  },
  {
   "cell_type": "code",
   "execution_count": 27,
   "metadata": {},
   "outputs": [
    {
     "data": {
      "text/html": [
       "<div>\n",
       "<style>\n",
       "    .dataframe thead tr:only-child th {\n",
       "        text-align: right;\n",
       "    }\n",
       "\n",
       "    .dataframe thead th {\n",
       "        text-align: left;\n",
       "    }\n",
       "\n",
       "    .dataframe tbody tr th {\n",
       "        vertical-align: top;\n",
       "    }\n",
       "</style>\n",
       "<table border=\"1\" class=\"dataframe\">\n",
       "  <caption>Zmat</caption>\n",
       "<thead>\n",
       "    <tr style=\"text-align: right;\">\n",
       "      <th></th>\n",
       "      <th>atom</th>\n",
       "      <th>b</th>\n",
       "      <th>bond</th>\n",
       "      <th>a</th>\n",
       "      <th>angle</th>\n",
       "      <th>d</th>\n",
       "      <th>dihedral</th>\n",
       "    </tr>\n",
       "  </thead>\n",
       "  <tbody>\n",
       "    <tr>\n",
       "      <th>1</th>\n",
       "      <td>O</td>\n",
       "      <td>$\\vec{0}$</td>\n",
       "      <td>0.000000</td>\n",
       "      <td>$\\vec{e_z}$</td>\n",
       "      <td>0.000000</td>\n",
       "      <td>$\\vec{e_x}$</td>\n",
       "      <td>0.000000</td>\n",
       "    </tr>\n",
       "    <tr>\n",
       "      <th>2</th>\n",
       "      <td>H</td>\n",
       "      <td>1</td>\n",
       "      <td>0.910922</td>\n",
       "      <td>$\\vec{e_z}$</td>\n",
       "      <td>56.385853</td>\n",
       "      <td>$\\vec{e_x}$</td>\n",
       "      <td>0.000000</td>\n",
       "    </tr>\n",
       "    <tr>\n",
       "      <th>3</th>\n",
       "      <td>H</td>\n",
       "      <td>1</td>\n",
       "      <td>0.910922</td>\n",
       "      <td>2</td>\n",
       "      <td>107.000024</td>\n",
       "      <td>$\\vec{e_x}$</td>\n",
       "      <td>0.000000</td>\n",
       "    </tr>\n",
       "    <tr>\n",
       "      <th>4</th>\n",
       "      <td>O</td>\n",
       "      <td>2</td>\n",
       "      <td>2.000000</td>\n",
       "      <td>1</td>\n",
       "      <td>132.466298</td>\n",
       "      <td>3</td>\n",
       "      <td>343.244987</td>\n",
       "    </tr>\n",
       "    <tr>\n",
       "      <th>5</th>\n",
       "      <td>H</td>\n",
       "      <td>4</td>\n",
       "      <td>0.910922</td>\n",
       "      <td>2</td>\n",
       "      <td>132.466298</td>\n",
       "      <td>1</td>\n",
       "      <td>180.000000</td>\n",
       "    </tr>\n",
       "    <tr>\n",
       "      <th>6</th>\n",
       "      <td>H</td>\n",
       "      <td>4</td>\n",
       "      <td>0.910922</td>\n",
       "      <td>5</td>\n",
       "      <td>107.000024</td>\n",
       "      <td>2</td>\n",
       "      <td>163.244987</td>\n",
       "    </tr>\n",
       "  </tbody>\n",
       "</table>\n",
       "</div>"
      ],
      "text/plain": [
       "  atom                    b      bond                    a       angle  \\\n",
       "1    O -9223372036854775808  0.000000 -9223372036854775805    0.000000   \n",
       "2    H                    1  0.910922 -9223372036854775805   56.385853   \n",
       "3    H                    1  0.910922                    2  107.000024   \n",
       "4    O                    2  2.000000                    1  132.466298   \n",
       "5    H                    4  0.910922                    2  132.466298   \n",
       "6    H                    4  0.910922                    5  107.000024   \n",
       "\n",
       "                     d    dihedral  \n",
       "1 -9223372036854775807    0.000000  \n",
       "2 -9223372036854775807    0.000000  \n",
       "3 -9223372036854775807    0.000000  \n",
       "4                    3  343.244987  \n",
       "5                    1  180.000000  \n",
       "6                    2  163.244987  "
      ]
     },
     "execution_count": 27,
     "metadata": {},
     "output_type": "execute_result"
    }
   ],
   "source": [
    "symb_water.subs(d, 2)"
   ]
  },
  {
   "cell_type": "code",
   "execution_count": 28,
   "metadata": {
    "collapsed": true
   },
   "outputs": [],
   "source": [
    "for i in range(2, 5):\n",
    "    water.subs(d, i).give_cartesian().view()\n",
    "    time.sleep(1)"
   ]
  },
  {
   "cell_type": "markdown",
   "metadata": {},
   "source": [
    "# Binary operators"
   ]
  },
  {
   "cell_type": "markdown",
   "metadata": {},
   "source": [
    "### Mathematical Operations:"
   ]
  },
  {
   "cell_type": "markdown",
   "metadata": {},
   "source": [
    "The general rule is that mathematical operations using the binary operators\n",
    "``(+ - * /)`` and the unary operators ``(+ - abs)``\n",
    "are only applied to the ``['bond', 'angle', 'dihedral']`` columns.\n",
    "\n",
    "**Addition/Subtraction/Multiplication/Division**:\n",
    "The most common case is to add another Zmat instance.\n",
    "In this case it is tested, if the used references are the same.\n",
    "Afterwards the addition in the ``['bond', 'angle', 'dihedral']`` columns\n",
    "is performed.\n",
    "If you add a scalar to a Zmat it is added elementwise onto the\n",
    "``['bond', 'angle', 'dihedral']`` columns.\n",
    "If you add a 3-dimensional vector, list, tuple... the first element of this\n",
    "vector is added elementwise to the ``'bond'`` column of the\n",
    "Zmat instance and so on.\n",
    "The third possibility is to add a matrix with\n",
    "``shape=(len(Zmat), 3)`` which is again added elementwise.\n",
    "The same rules are true for subtraction, division and multiplication."
   ]
  },
  {
   "cell_type": "code",
   "execution_count": 32,
   "metadata": {
    "collapsed": true
   },
   "outputs": [],
   "source": [
    "distortion = water.copy()\n",
    "distortion.unsafe_loc[:, ['bond', 'angle', 'dihedral']] = 0\n",
    "distortion.safe_loc[4, 'bond'] = d"
   ]
  },
  {
   "cell_type": "code",
   "execution_count": 35,
   "metadata": {},
   "outputs": [
    {
     "data": {
      "text/html": [
       "<div>\n",
       "<style>\n",
       "    .dataframe thead tr:only-child th {\n",
       "        text-align: right;\n",
       "    }\n",
       "\n",
       "    .dataframe thead th {\n",
       "        text-align: left;\n",
       "    }\n",
       "\n",
       "    .dataframe tbody tr th {\n",
       "        vertical-align: top;\n",
       "    }\n",
       "</style>\n",
       "<table border=\"1\" class=\"dataframe\">\n",
       "  <caption>Zmat</caption>\n",
       "<thead>\n",
       "    <tr style=\"text-align: right;\">\n",
       "      <th></th>\n",
       "      <th>atom</th>\n",
       "      <th>b</th>\n",
       "      <th>bond</th>\n",
       "      <th>a</th>\n",
       "      <th>angle</th>\n",
       "      <th>d</th>\n",
       "      <th>dihedral</th>\n",
       "    </tr>\n",
       "  </thead>\n",
       "  <tbody>\n",
       "    <tr>\n",
       "      <th>1</th>\n",
       "      <td>O</td>\n",
       "      <td>$\\vec{0}$</td>\n",
       "      <td>0</td>\n",
       "      <td>$\\vec{e_z}$</td>\n",
       "      <td>0.000000</td>\n",
       "      <td>$\\vec{e_x}$</td>\n",
       "      <td>0.000000</td>\n",
       "    </tr>\n",
       "    <tr>\n",
       "      <th>2</th>\n",
       "      <td>H</td>\n",
       "      <td>1</td>\n",
       "      <td>0.910922</td>\n",
       "      <td>$\\vec{e_z}$</td>\n",
       "      <td>56.385853</td>\n",
       "      <td>$\\vec{e_x}$</td>\n",
       "      <td>0.000000</td>\n",
       "    </tr>\n",
       "    <tr>\n",
       "      <th>3</th>\n",
       "      <td>H</td>\n",
       "      <td>1</td>\n",
       "      <td>0.910922</td>\n",
       "      <td>2</td>\n",
       "      <td>107.000024</td>\n",
       "      <td>$\\vec{e_x}$</td>\n",
       "      <td>0.000000</td>\n",
       "    </tr>\n",
       "    <tr>\n",
       "      <th>4</th>\n",
       "      <td>O</td>\n",
       "      <td>2</td>\n",
       "      <td>$d + 2.3512055093207$</td>\n",
       "      <td>1</td>\n",
       "      <td>132.466298</td>\n",
       "      <td>3</td>\n",
       "      <td>343.244987</td>\n",
       "    </tr>\n",
       "    <tr>\n",
       "      <th>5</th>\n",
       "      <td>H</td>\n",
       "      <td>4</td>\n",
       "      <td>0.910922</td>\n",
       "      <td>2</td>\n",
       "      <td>132.466298</td>\n",
       "      <td>1</td>\n",
       "      <td>180.000000</td>\n",
       "    </tr>\n",
       "    <tr>\n",
       "      <th>6</th>\n",
       "      <td>H</td>\n",
       "      <td>4</td>\n",
       "      <td>0.910922</td>\n",
       "      <td>5</td>\n",
       "      <td>107.000024</td>\n",
       "      <td>2</td>\n",
       "      <td>163.244987</td>\n",
       "    </tr>\n",
       "  </tbody>\n",
       "</table>\n",
       "</div>"
      ],
      "text/plain": [
       "  atom                    b                 bond                    a  \\\n",
       "1    O -9223372036854775808                    0 -9223372036854775805   \n",
       "2    H                    1             0.910922 -9223372036854775805   \n",
       "3    H                    1             0.910922                    2   \n",
       "4    O                    2  d + 2.3512055093207                    1   \n",
       "5    H                    4             0.910922                    2   \n",
       "6    H                    4             0.910922                    5   \n",
       "\n",
       "        angle                    d    dihedral  \n",
       "1    0.000000 -9223372036854775807    0.000000  \n",
       "2   56.385853 -9223372036854775807    0.000000  \n",
       "3  107.000024 -9223372036854775807    0.000000  \n",
       "4  132.466298                    3  343.244987  \n",
       "5  132.466298                    1  180.000000  \n",
       "6  107.000024                    2  163.244987  "
      ]
     },
     "execution_count": 35,
     "metadata": {},
     "output_type": "execute_result"
    }
   ],
   "source": [
    "water + distortion"
   ]
  },
  {
   "cell_type": "code",
   "execution_count": 36,
   "metadata": {},
   "outputs": [
    {
     "data": {
      "text/html": [
       "<div>\n",
       "<style>\n",
       "    .dataframe thead tr:only-child th {\n",
       "        text-align: right;\n",
       "    }\n",
       "\n",
       "    .dataframe thead th {\n",
       "        text-align: left;\n",
       "    }\n",
       "\n",
       "    .dataframe tbody tr th {\n",
       "        vertical-align: top;\n",
       "    }\n",
       "</style>\n",
       "<table border=\"1\" class=\"dataframe\">\n",
       "  <caption>Zmat</caption>\n",
       "<thead>\n",
       "    <tr style=\"text-align: right;\">\n",
       "      <th></th>\n",
       "      <th>atom</th>\n",
       "      <th>b</th>\n",
       "      <th>bond</th>\n",
       "      <th>a</th>\n",
       "      <th>angle</th>\n",
       "      <th>d</th>\n",
       "      <th>dihedral</th>\n",
       "    </tr>\n",
       "  </thead>\n",
       "  <tbody>\n",
       "    <tr>\n",
       "      <th>1</th>\n",
       "      <td>O</td>\n",
       "      <td>$\\vec{0}$</td>\n",
       "      <td>0.000000</td>\n",
       "      <td>$\\vec{e_z}$</td>\n",
       "      <td>0.000000</td>\n",
       "      <td>$\\vec{e_x}$</td>\n",
       "      <td>0.000000</td>\n",
       "    </tr>\n",
       "    <tr>\n",
       "      <th>2</th>\n",
       "      <td>H</td>\n",
       "      <td>1</td>\n",
       "      <td>0.910922</td>\n",
       "      <td>$\\vec{e_z}$</td>\n",
       "      <td>56.385853</td>\n",
       "      <td>$\\vec{e_x}$</td>\n",
       "      <td>0.000000</td>\n",
       "    </tr>\n",
       "    <tr>\n",
       "      <th>3</th>\n",
       "      <td>H</td>\n",
       "      <td>1</td>\n",
       "      <td>0.910922</td>\n",
       "      <td>2</td>\n",
       "      <td>107.000024</td>\n",
       "      <td>$\\vec{e_x}$</td>\n",
       "      <td>0.000000</td>\n",
       "    </tr>\n",
       "    <tr>\n",
       "      <th>4</th>\n",
       "      <td>O</td>\n",
       "      <td>2</td>\n",
       "      <td>5.351206</td>\n",
       "      <td>1</td>\n",
       "      <td>132.466298</td>\n",
       "      <td>3</td>\n",
       "      <td>343.244987</td>\n",
       "    </tr>\n",
       "    <tr>\n",
       "      <th>5</th>\n",
       "      <td>H</td>\n",
       "      <td>4</td>\n",
       "      <td>0.910922</td>\n",
       "      <td>2</td>\n",
       "      <td>132.466298</td>\n",
       "      <td>1</td>\n",
       "      <td>180.000000</td>\n",
       "    </tr>\n",
       "    <tr>\n",
       "      <th>6</th>\n",
       "      <td>H</td>\n",
       "      <td>4</td>\n",
       "      <td>0.910922</td>\n",
       "      <td>5</td>\n",
       "      <td>107.000024</td>\n",
       "      <td>2</td>\n",
       "      <td>163.244987</td>\n",
       "    </tr>\n",
       "  </tbody>\n",
       "</table>\n",
       "</div>"
      ],
      "text/plain": [
       "  atom                    b      bond                    a       angle  \\\n",
       "1    O -9223372036854775808  0.000000 -9223372036854775805    0.000000   \n",
       "2    H                    1  0.910922 -9223372036854775805   56.385853   \n",
       "3    H                    1  0.910922                    2  107.000024   \n",
       "4    O                    2  5.351206                    1  132.466298   \n",
       "5    H                    4  0.910922                    2  132.466298   \n",
       "6    H                    4  0.910922                    5  107.000024   \n",
       "\n",
       "                     d    dihedral  \n",
       "1 -9223372036854775807    0.000000  \n",
       "2 -9223372036854775807    0.000000  \n",
       "3 -9223372036854775807    0.000000  \n",
       "4                    3  343.244987  \n",
       "5                    1  180.000000  \n",
       "6                    2  163.244987  "
      ]
     },
     "execution_count": 36,
     "metadata": {},
     "output_type": "execute_result"
    }
   ],
   "source": [
    "(water + distortion).subs(d, 3)"
   ]
  },
  {
   "cell_type": "code",
   "execution_count": 37,
   "metadata": {
    "collapsed": true
   },
   "outputs": [],
   "source": [
    "(water + distortion).subs(d, 3).give_cartesian().view()"
   ]
  },
  {
   "cell_type": "code",
   "execution_count": null,
   "metadata": {
    "collapsed": true
   },
   "outputs": [],
   "source": []
  }
 ],
 "metadata": {
  "anaconda-cloud": {},
  "kernelspec": {
   "display_name": "Python [default]",
   "language": "python",
   "name": "python3"
  },
  "language_info": {
   "codemirror_mode": {
    "name": "ipython",
    "version": 3
   },
   "file_extension": ".py",
   "mimetype": "text/x-python",
   "name": "python",
   "nbconvert_exporter": "python",
   "pygments_lexer": "ipython3",
   "version": "3.6.2"
  }
 },
 "nbformat": 4,
 "nbformat_minor": 1
}

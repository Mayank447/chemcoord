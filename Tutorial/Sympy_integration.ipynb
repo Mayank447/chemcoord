{
 "cells": [
  {
   "cell_type": "code",
   "execution_count": 1,
   "metadata": {
    "collapsed": true
   },
   "outputs": [],
   "source": [
    "# %load /home/mcocdawc/startup1\n",
    "import pandas as pd\n",
    "import chemcoord as cc\n",
    "from collections import OrderedDict\n",
    "import numpy as np\n",
    "import sympy\n",
    "from sympy import Ynm, simplify, sin, cos, integrate, pi, Symbol, init_printing\n",
    "init_printing()"
   ]
  },
  {
   "cell_type": "code",
   "execution_count": 2,
   "metadata": {
    "collapsed": true
   },
   "outputs": [],
   "source": [
    "theta, x = Symbol('theta', real=True), Symbol('x', real=True)"
   ]
  },
  {
   "cell_type": "markdown",
   "metadata": {},
   "source": [
    "## Coupled bond movement"
   ]
  },
  {
   "cell_type": "code",
   "execution_count": 3,
   "metadata": {
    "collapsed": true
   },
   "outputs": [],
   "source": [
    "molecule = cc.Cartesian.read_xyz('MIL53_small.xyz', start_index=1)"
   ]
  },
  {
   "cell_type": "code",
   "execution_count": 4,
   "metadata": {
    "collapsed": true
   },
   "outputs": [],
   "source": [
    "zmolecule = molecule.get_zmat()"
   ]
  },
  {
   "cell_type": "code",
   "execution_count": 5,
   "metadata": {
    "collapsed": true
   },
   "outputs": [],
   "source": [
    "molecule.view()"
   ]
  },
  {
   "cell_type": "code",
   "execution_count": 6,
   "metadata": {
    "collapsed": true
   },
   "outputs": [],
   "source": [
    "zmolecule.safe_loc[24, 'bond'] = 1.4608 + x\n",
    "zmolecule.safe_loc[32, 'bond'] = 1.4608 - x"
   ]
  },
  {
   "cell_type": "code",
   "execution_count": 7,
   "metadata": {},
   "outputs": [
    {
     "data": {
      "text/html": [
       "<div>\n",
       "<style>\n",
       "    .dataframe thead tr:only-child th {\n",
       "        text-align: right;\n",
       "    }\n",
       "\n",
       "    .dataframe thead th {\n",
       "        text-align: left;\n",
       "    }\n",
       "\n",
       "    .dataframe tbody tr th {\n",
       "        vertical-align: top;\n",
       "    }\n",
       "</style>\n",
       "<table border=\"1\" class=\"dataframe\">\n",
       "  <thead>\n",
       "    <tr style=\"text-align: right;\">\n",
       "      <th></th>\n",
       "      <th>atom</th>\n",
       "      <th>b</th>\n",
       "      <th>bond</th>\n",
       "      <th>a</th>\n",
       "      <th>angle</th>\n",
       "      <th>d</th>\n",
       "      <th>dihedral</th>\n",
       "    </tr>\n",
       "  </thead>\n",
       "  <tbody>\n",
       "    <tr>\n",
       "      <th>24</th>\n",
       "      <td>C</td>\n",
       "      <td>10</td>\n",
       "      <td>x + 1.4608</td>\n",
       "      <td>8</td>\n",
       "      <td>121.477117</td>\n",
       "      <td>6</td>\n",
       "      <td>188.190326</td>\n",
       "    </tr>\n",
       "    <tr>\n",
       "      <th>32</th>\n",
       "      <td>C</td>\n",
       "      <td>17</td>\n",
       "      <td>-x + 1.4608</td>\n",
       "      <td>16</td>\n",
       "      <td>121.477117</td>\n",
       "      <td>6</td>\n",
       "      <td>171.809674</td>\n",
       "    </tr>\n",
       "  </tbody>\n",
       "</table>\n",
       "</div>"
      ],
      "text/plain": [
       "   atom   b         bond   a       angle  d    dihedral\n",
       "24    C  10   x + 1.4608   8  121.477117  6  188.190326\n",
       "32    C  17  -x + 1.4608  16  121.477117  6  171.809674"
      ]
     },
     "execution_count": 7,
     "metadata": {},
     "output_type": "execute_result"
    }
   ],
   "source": [
    "zmolecule.loc[[24, 32]]"
   ]
  },
  {
   "cell_type": "code",
   "execution_count": 9,
   "metadata": {
    "collapsed": true
   },
   "outputs": [],
   "source": [
    "cc.xyz_functions.view([zmolecule.subs(x, displ).give_cartesian() for displ in np.linspace(-0.2, 0.2, 5)])"
   ]
  },
  {
   "cell_type": "markdown",
   "metadata": {},
   "source": [
    "## Coupled angles"
   ]
  },
  {
   "cell_type": "code",
   "execution_count": 10,
   "metadata": {
    "collapsed": true
   },
   "outputs": [],
   "source": [
    "zmolecule = molecule.get_zmat()"
   ]
  },
  {
   "cell_type": "code",
   "execution_count": 11,
   "metadata": {
    "collapsed": true
   },
   "outputs": [],
   "source": [
    "molecule.view()"
   ]
  },
  {
   "cell_type": "code",
   "execution_count": 12,
   "metadata": {
    "collapsed": true
   },
   "outputs": [],
   "source": [
    "dihed = zmolecule.loc[35, 'dihedral']"
   ]
  },
  {
   "cell_type": "code",
   "execution_count": 14,
   "metadata": {
    "collapsed": true
   },
   "outputs": [],
   "source": [
    "zmolecule.safe_loc[35, 'dihedral'] = theta\n",
    "zmolecule.safe_loc[38, 'dihedral'] = theta + 120\n",
    "zmolecule.safe_loc[37, 'dihedral'] = theta + 240"
   ]
  },
  {
   "cell_type": "code",
   "execution_count": 15,
   "metadata": {
    "collapsed": true
   },
   "outputs": [],
   "source": [
    "zmats = [zmolecule.subs(theta, angle) for angle in np.linspace(0, 360, 5)]"
   ]
  },
  {
   "cell_type": "code",
   "execution_count": 16,
   "metadata": {
    "collapsed": true
   },
   "outputs": [],
   "source": [
    "cc.xyz_functions.view([zmat.give_cartesian() for zmat in zmats])"
   ]
  },
  {
   "cell_type": "markdown",
   "metadata": {
    "collapsed": true
   },
   "source": [
    "## Addition of zmatrices"
   ]
  },
  {
   "cell_type": "code",
   "execution_count": 17,
   "metadata": {
    "collapsed": true
   },
   "outputs": [],
   "source": [
    "zmolecule = molecule.get_zmat()\n",
    "zmolecule2 = zmolecule.copy()"
   ]
  },
  {
   "cell_type": "code",
   "execution_count": 18,
   "metadata": {
    "collapsed": true
   },
   "outputs": [],
   "source": [
    "zmolecule2.unsafe_loc[:, ['bond', 'angle', 'dihedral']] = 0\n",
    "zmolecule2.unsafe_loc[24, 'bond'] = x\n",
    "zmolecule2.unsafe_loc[32, 'bond'] = -x"
   ]
  },
  {
   "cell_type": "code",
   "execution_count": 21,
   "metadata": {
    "collapsed": true
   },
   "outputs": [],
   "source": [
    "zmolecule = zmolecule + 2 * zmolecule2"
   ]
  },
  {
   "cell_type": "code",
   "execution_count": 22,
   "metadata": {
    "collapsed": true
   },
   "outputs": [],
   "source": [
    "cc.xyz_functions.view([zmolecule.subs(x, displ).give_cartesian() for displ in np.linspace(-0.2, 0.2, 5)])"
   ]
  },
  {
   "cell_type": "code",
   "execution_count": null,
   "metadata": {
    "collapsed": true
   },
   "outputs": [],
   "source": []
  }
 ],
 "metadata": {
  "anaconda-cloud": {},
  "kernelspec": {
   "display_name": "Python [conda root]",
   "language": "python",
   "name": "conda-root-py"
  },
  "language_info": {
   "codemirror_mode": {
    "name": "ipython",
    "version": 3
   },
   "file_extension": ".py",
   "mimetype": "text/x-python",
   "name": "python",
   "nbconvert_exporter": "python",
   "pygments_lexer": "ipython3",
   "version": "3.6.2"
  }
 },
 "nbformat": 4,
 "nbformat_minor": 2
}

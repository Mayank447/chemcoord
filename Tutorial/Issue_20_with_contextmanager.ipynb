{
 "cells": [
  {
   "cell_type": "code",
   "execution_count": 1,
   "metadata": {
    "collapsed": true
   },
   "outputs": [],
   "source": [
    "# %load /home/oweser/.startup1\n",
    "import pandas as pd\n",
    "import chemcoord as cc\n",
    "from chemcoord.exceptions import InvalidReference\n",
    "import functools\n",
    "from functools import partial\n",
    "import numpy as np\n",
    "from chemcoord.exceptions import InvalidReference\n",
    "from numba import jit\n",
    "import pytest\n",
    "from contextlib import contextmanager\n",
    "%load_ext line_profiler\n",
    "import sys\n",
    "# unless specified else, all calculations are carried out in SI units"
   ]
  },
  {
   "cell_type": "code",
   "execution_count": 2,
   "metadata": {
    "collapsed": true
   },
   "outputs": [],
   "source": [
    "molecule = cc.Cartesian.read_xyz('water.xyz', start_index=1)\n",
    "molecule = molecule - molecule.loc[5, ['x', 'y', 'z']]\n",
    "\n",
    "zmolecule = molecule.get_zmat()\n",
    "c_table = zmolecule.loc[:, ['b', 'a', 'd']]\n",
    "c_table.loc[6, ['a', 'd']] = [2, 1]\n",
    "zmolecule1 = molecule.get_zmat(construction_table=c_table)\n",
    "zmolecule2 = zmolecule1.copy()\n",
    "zmolecule3 = molecule.get_zmat(construction_table=c_table)"
   ]
  },
  {
   "cell_type": "code",
   "execution_count": 3,
   "metadata": {
    "collapsed": true
   },
   "outputs": [],
   "source": [
    "molecule.view()"
   ]
  },
  {
   "cell_type": "markdown",
   "metadata": {},
   "source": [
    "### Modifications on zmolecule1"
   ]
  },
  {
   "cell_type": "code",
   "execution_count": 14,
   "metadata": {
    "collapsed": true
   },
   "outputs": [],
   "source": [
    "angle_before_assignment = zmolecule1.loc[4, 'angle']"
   ]
  },
  {
   "cell_type": "code",
   "execution_count": 15,
   "metadata": {
    "scrolled": true
   },
   "outputs": [
    {
     "name": "stderr",
     "output_type": "stream",
     "text": [
      "/home/oweser/code/git/chemcoord/src/chemcoord/internal_coordinates/_zmat_class_core.py:368: UserWarning: For the dihedral reference of atom 5 the dummy atom 7 was inserted\n",
      "  warnings.warn(give_message(i=i, dummy_d=dummy_d), UserWarning)\n",
      "/home/oweser/code/git/chemcoord/src/chemcoord/internal_coordinates/_zmat_class_core.py:368: UserWarning: For the dihedral reference of atom 6 the dummy atom 8 was inserted\n",
      "  warnings.warn(give_message(i=i, dummy_d=dummy_d), UserWarning)\n"
     ]
    }
   ],
   "source": [
    "zmolecule1.safe_loc[4, 'angle'] = 180"
   ]
  },
  {
   "cell_type": "code",
   "execution_count": 6,
   "metadata": {
    "collapsed": true
   },
   "outputs": [],
   "source": [
    "zmolecule1.safe_loc[5, 'dihedral'] = 90"
   ]
  },
  {
   "cell_type": "code",
   "execution_count": 8,
   "metadata": {
    "collapsed": true
   },
   "outputs": [],
   "source": [
    "zmolecule1.safe_loc[4, 'angle'] = angle_before_assignment"
   ]
  },
  {
   "cell_type": "code",
   "execution_count": 9,
   "metadata": {
    "collapsed": true
   },
   "outputs": [],
   "source": [
    "xyz1 = zmolecule1.give_cartesian()"
   ]
  },
  {
   "cell_type": "markdown",
   "metadata": {},
   "source": [
    "### Modifications on zmolecule2"
   ]
  },
  {
   "cell_type": "code",
   "execution_count": 10,
   "metadata": {
    "collapsed": true
   },
   "outputs": [],
   "source": [
    "zmolecule2.safe_loc[5, 'dihedral'] = 90"
   ]
  },
  {
   "cell_type": "code",
   "execution_count": 11,
   "metadata": {
    "collapsed": true
   },
   "outputs": [],
   "source": [
    "xyz2 = zmolecule2.give_cartesian()\n",
    "# xyz2.view()"
   ]
  },
  {
   "cell_type": "markdown",
   "metadata": {},
   "source": [
    "### Comparison"
   ]
  },
  {
   "cell_type": "code",
   "execution_count": 12,
   "metadata": {},
   "outputs": [
    {
     "data": {
      "text/plain": [
       "True"
      ]
     },
     "execution_count": 12,
     "metadata": {},
     "output_type": "execute_result"
    }
   ],
   "source": [
    "cc.xyz_functions.allclose(xyz1, xyz2)"
   ]
  },
  {
   "cell_type": "code",
   "execution_count": 16,
   "metadata": {},
   "outputs": [
    {
     "data": {
      "text/plain": [
       "{'DummyManipulation_allowed': True,\n",
       " 'has_dummies': {5: {'actual_d': 1, 'dummy_d': 7},\n",
       "  6: {'actual_d': 1, 'dummy_d': 8}},\n",
       " 'last_valid_cartesian':   atom         x         y             z\n",
       " 1    O -3.758602 -0.500000 -5.042840e-01\n",
       " 2    H -3.000000 -0.500000  0.000000e+00\n",
       " 3    H -3.498147 -0.500000 -1.377177e+00\n",
       " 4    O -1.041952 -0.500000  1.301621e+00\n",
       " 7    X -3.000000  0.500000 -6.753223e-16\n",
       " 5    H -0.157780 -0.500000  1.082490e+00\n",
       " 8    X -3.000000  0.500000 -6.753223e-16\n",
       " 6    H -0.540245  0.259636  1.333583e+00}"
      ]
     },
     "execution_count": 16,
     "metadata": {},
     "output_type": "execute_result"
    }
   ],
   "source": [
    "zmolecule1._metadata"
   ]
  },
  {
   "cell_type": "markdown",
   "metadata": {
    "collapsed": true
   },
   "source": [
    "## Contextmanager"
   ]
  },
  {
   "cell_type": "code",
   "execution_count": 17,
   "metadata": {},
   "outputs": [
    {
     "name": "stderr",
     "output_type": "stream",
     "text": [
      "/home/oweser/code/git/chemcoord/src/chemcoord/internal_coordinates/_zmat_class_core.py:368: UserWarning: For the dihedral reference of atom 5 the dummy atom 7 was inserted\n",
      "  warnings.warn(give_message(i=i, dummy_d=dummy_d), UserWarning)\n",
      "/home/oweser/code/git/chemcoord/src/chemcoord/internal_coordinates/_zmat_class_core.py:368: UserWarning: For the dihedral reference of atom 6 the dummy atom 8 was inserted\n",
      "  warnings.warn(give_message(i=i, dummy_d=dummy_d), UserWarning)\n"
     ]
    }
   ],
   "source": [
    "with cc.DummyManipulation(zmolecule3, False):\n",
    "    try:\n",
    "        zmolecule3.safe_loc[4, 'angle'] = 180\n",
    "    except InvalidReference as e:\n",
    "        e.already_built_cartesian.view()\n",
    "        test = e.zmat_after_assignment._insert_dummy_zmat(e)"
   ]
  },
  {
   "cell_type": "code",
   "execution_count": 18,
   "metadata": {},
   "outputs": [
    {
     "data": {
      "text/html": [
       "<div>\n",
       "<style>\n",
       "    .dataframe thead tr:only-child th {\n",
       "        text-align: right;\n",
       "    }\n",
       "\n",
       "    .dataframe thead th {\n",
       "        text-align: left;\n",
       "    }\n",
       "\n",
       "    .dataframe tbody tr th {\n",
       "        vertical-align: top;\n",
       "    }\n",
       "</style>\n",
       "<table border=\"1\" class=\"dataframe\">\n",
       "  <caption>Zmat</caption>\n",
       "<thead>\n",
       "    <tr style=\"text-align: right;\">\n",
       "      <th></th>\n",
       "      <th>atom</th>\n",
       "      <th>b</th>\n",
       "      <th>bond</th>\n",
       "      <th>a</th>\n",
       "      <th>angle</th>\n",
       "      <th>d</th>\n",
       "      <th>dihedral</th>\n",
       "    </tr>\n",
       "  </thead>\n",
       "  <tbody>\n",
       "    <tr>\n",
       "      <th>1</th>\n",
       "      <td>O</td>\n",
       "      <td>$\\vec{0}$</td>\n",
       "      <td>3.825100</td>\n",
       "      <td>$\\vec{e_z}$</td>\n",
       "      <td>97.575672</td>\n",
       "      <td>$\\vec{e_x}$</td>\n",
       "      <td>187.577464</td>\n",
       "    </tr>\n",
       "    <tr>\n",
       "      <th>2</th>\n",
       "      <td>H</td>\n",
       "      <td>1</td>\n",
       "      <td>0.910922</td>\n",
       "      <td>$\\vec{e_z}$</td>\n",
       "      <td>13.716615</td>\n",
       "      <td>$\\vec{e_x}$</td>\n",
       "      <td>213.402944</td>\n",
       "    </tr>\n",
       "    <tr>\n",
       "      <th>3</th>\n",
       "      <td>H</td>\n",
       "      <td>1</td>\n",
       "      <td>0.910922</td>\n",
       "      <td>2</td>\n",
       "      <td>107.000024</td>\n",
       "      <td>$\\vec{e_x}$</td>\n",
       "      <td>347.276217</td>\n",
       "    </tr>\n",
       "    <tr>\n",
       "      <th>4</th>\n",
       "      <td>O</td>\n",
       "      <td>2</td>\n",
       "      <td>2.351206</td>\n",
       "      <td>1</td>\n",
       "      <td>132.466298</td>\n",
       "      <td>3</td>\n",
       "      <td>343.244987</td>\n",
       "    </tr>\n",
       "    <tr>\n",
       "      <th>5</th>\n",
       "      <td>H</td>\n",
       "      <td>4</td>\n",
       "      <td>0.910922</td>\n",
       "      <td>2</td>\n",
       "      <td>132.466298</td>\n",
       "      <td>1</td>\n",
       "      <td>180.000000</td>\n",
       "    </tr>\n",
       "    <tr>\n",
       "      <th>6</th>\n",
       "      <td>H</td>\n",
       "      <td>4</td>\n",
       "      <td>0.910922</td>\n",
       "      <td>2</td>\n",
       "      <td>118.561123</td>\n",
       "      <td>1</td>\n",
       "      <td>18.293238</td>\n",
       "    </tr>\n",
       "  </tbody>\n",
       "</table>\n",
       "</div>"
      ],
      "text/plain": [
       "  atom                    b      bond                    a       angle  \\\n",
       "1    O -9223372036854775808  3.825100 -9223372036854775805   97.575672   \n",
       "2    H                    1  0.910922 -9223372036854775805   13.716615   \n",
       "3    H                    1  0.910922                    2  107.000024   \n",
       "4    O                    2  2.351206                    1  132.466298   \n",
       "5    H                    4  0.910922                    2  132.466298   \n",
       "6    H                    4  0.910922                    2  118.561123   \n",
       "\n",
       "                     d    dihedral  \n",
       "1 -9223372036854775807  187.577464  \n",
       "2 -9223372036854775807  213.402944  \n",
       "3 -9223372036854775807  347.276217  \n",
       "4                    3  343.244987  \n",
       "5                    1  180.000000  \n",
       "6                    1   18.293238  "
      ]
     },
     "execution_count": 18,
     "metadata": {},
     "output_type": "execute_result"
    }
   ],
   "source": [
    "zmolecule3"
   ]
  },
  {
   "cell_type": "code",
   "execution_count": 18,
   "metadata": {},
   "outputs": [
    {
     "data": {
      "text/html": [
       "<div>\n",
       "<style>\n",
       "    .dataframe thead tr:only-child th {\n",
       "        text-align: right;\n",
       "    }\n",
       "\n",
       "    .dataframe thead th {\n",
       "        text-align: left;\n",
       "    }\n",
       "\n",
       "    .dataframe tbody tr th {\n",
       "        vertical-align: top;\n",
       "    }\n",
       "</style>\n",
       "<table border=\"1\" class=\"dataframe\">\n",
       "  <thead>\n",
       "    <tr style=\"text-align: right;\">\n",
       "      <th></th>\n",
       "      <th>atom</th>\n",
       "      <th>b</th>\n",
       "      <th>bond</th>\n",
       "      <th>a</th>\n",
       "      <th>angle</th>\n",
       "      <th>d</th>\n",
       "      <th>dihedral</th>\n",
       "    </tr>\n",
       "  </thead>\n",
       "  <tbody>\n",
       "    <tr>\n",
       "      <th>7</th>\n",
       "      <td>X</td>\n",
       "      <td>-9223372036854775808</td>\n",
       "      <td>2.604064</td>\n",
       "      <td>-9223372036854775805</td>\n",
       "      <td>107.83188</td>\n",
       "      <td>-9223372036854775807</td>\n",
       "      <td>184.89941</td>\n",
       "    </tr>\n",
       "    <tr>\n",
       "      <th>8</th>\n",
       "      <td>X</td>\n",
       "      <td>-9223372036854775808</td>\n",
       "      <td>2.604064</td>\n",
       "      <td>-9223372036854775805</td>\n",
       "      <td>107.83188</td>\n",
       "      <td>-9223372036854775807</td>\n",
       "      <td>184.89941</td>\n",
       "    </tr>\n",
       "  </tbody>\n",
       "</table>\n",
       "</div>"
      ],
      "text/plain": [
       "  atom                    b      bond                    a      angle  \\\n",
       "7    X -9223372036854775808  2.604064 -9223372036854775805  107.83188   \n",
       "8    X -9223372036854775808  2.604064 -9223372036854775805  107.83188   \n",
       "\n",
       "                     d   dihedral  \n",
       "7 -9223372036854775807  184.89941  \n",
       "8 -9223372036854775807  184.89941  "
      ]
     },
     "execution_count": 18,
     "metadata": {},
     "output_type": "execute_result"
    }
   ],
   "source": [
    "test[~test.index.isin(zmolecule3.index)]"
   ]
  },
  {
   "cell_type": "code",
   "execution_count": null,
   "metadata": {
    "collapsed": true
   },
   "outputs": [],
   "source": []
  }
 ],
 "metadata": {
  "anaconda-cloud": {},
  "kernelspec": {
   "display_name": "Python [conda root]",
   "language": "python",
   "name": "conda-root-py"
  },
  "language_info": {
   "codemirror_mode": {
    "name": "ipython",
    "version": 3
   },
   "file_extension": ".py",
   "mimetype": "text/x-python",
   "name": "python",
   "nbconvert_exporter": "python",
   "pygments_lexer": "ipython3",
   "version": "3.6.2"
  }
 },
 "nbformat": 4,
 "nbformat_minor": 2
}

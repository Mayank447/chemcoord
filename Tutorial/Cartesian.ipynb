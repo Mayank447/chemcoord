{
 "cells": [
  {
   "cell_type": "markdown",
   "metadata": {
    "collapsed": true
   },
   "source": [
    "# Cartesian"
   ]
  },
  {
   "cell_type": "markdown",
   "metadata": {
    "collapsed": true
   },
   "source": [
    "Welcome to the tutorial for ChemCoord (http://chemcoord.readthedocs.org/)."
   ]
  },
  {
   "cell_type": "markdown",
   "metadata": {},
   "source": [
    "The manipulation of the coordinates is a lot easier, if you can view them on the fly.\n",
    "So please install a molecule viewer, which opens xyz-files. \n",
    "A non complete list includes:\n",
    "[molcas gv](http://www.molcas.org/GV/),\n",
    "[avogadro](https://avogadro.cc/),\n",
    "[vmd](http://www.ks.uiuc.edu/Research/vmd/), and\n",
    "[pymol](https://www.pymol.org/)"
   ]
  },
  {
   "cell_type": "code",
   "execution_count": 1,
   "metadata": {
    "collapsed": true
   },
   "outputs": [],
   "source": [
    "import chemcoord as cc\n",
    "import pandas as pd\n",
    "import numpy as np\n",
    "import time"
   ]
  },
  {
   "cell_type": "code",
   "execution_count": 2,
   "metadata": {},
   "outputs": [],
   "source": [
    "water = cc.Cartesian.read_xyz('water_dimer.xyz', start_index=1)"
   ]
  },
  {
   "cell_type": "markdown",
   "metadata": {},
   "source": [
    "Let's have a look at it:"
   ]
  },
  {
   "cell_type": "code",
   "execution_count": 3,
   "metadata": {},
   "outputs": [
    {
     "data": {
      "text/html": [
       "<div>\n",
       "<style>\n",
       "    .dataframe thead tr:only-child th {\n",
       "        text-align: right;\n",
       "    }\n",
       "\n",
       "    .dataframe thead th {\n",
       "        text-align: left;\n",
       "    }\n",
       "\n",
       "    .dataframe tbody tr th {\n",
       "        vertical-align: top;\n",
       "    }\n",
       "</style>\n",
       "<table border=\"1\" class=\"dataframe\">\n",
       "  <caption>Cartesian</caption>\n",
       "<thead>\n",
       "    <tr style=\"text-align: right;\">\n",
       "      <th></th>\n",
       "      <th>atom</th>\n",
       "      <th>x</th>\n",
       "      <th>y</th>\n",
       "      <th>z</th>\n",
       "    </tr>\n",
       "  </thead>\n",
       "  <tbody>\n",
       "    <tr>\n",
       "      <th>1</th>\n",
       "      <td>O</td>\n",
       "      <td>0.000000</td>\n",
       "      <td>0.0</td>\n",
       "      <td>0.000000</td>\n",
       "    </tr>\n",
       "    <tr>\n",
       "      <th>2</th>\n",
       "      <td>H</td>\n",
       "      <td>0.758602</td>\n",
       "      <td>0.0</td>\n",
       "      <td>0.504284</td>\n",
       "    </tr>\n",
       "    <tr>\n",
       "      <th>3</th>\n",
       "      <td>H</td>\n",
       "      <td>0.260455</td>\n",
       "      <td>0.0</td>\n",
       "      <td>-0.872893</td>\n",
       "    </tr>\n",
       "    <tr>\n",
       "      <th>4</th>\n",
       "      <td>O</td>\n",
       "      <td>3.000000</td>\n",
       "      <td>0.5</td>\n",
       "      <td>0.000000</td>\n",
       "    </tr>\n",
       "    <tr>\n",
       "      <th>5</th>\n",
       "      <td>H</td>\n",
       "      <td>3.758602</td>\n",
       "      <td>0.5</td>\n",
       "      <td>0.504284</td>\n",
       "    </tr>\n",
       "    <tr>\n",
       "      <th>6</th>\n",
       "      <td>H</td>\n",
       "      <td>3.260455</td>\n",
       "      <td>0.5</td>\n",
       "      <td>-0.872893</td>\n",
       "    </tr>\n",
       "  </tbody>\n",
       "</table>\n",
       "</div>"
      ],
      "text/plain": [
       "  atom         x    y         z\n",
       "1    O  0.000000  0.0  0.000000\n",
       "2    H  0.758602  0.0  0.504284\n",
       "3    H  0.260455  0.0 -0.872893\n",
       "4    O  3.000000  0.5  0.000000\n",
       "5    H  3.758602  0.5  0.504284\n",
       "6    H  3.260455  0.5 -0.872893"
      ]
     },
     "execution_count": 3,
     "metadata": {},
     "output_type": "execute_result"
    }
   ],
   "source": [
    "water"
   ]
  },
  {
   "cell_type": "markdown",
   "metadata": {},
   "source": [
    "It is also possible to open it with an external viewer. I use Molcas ``gv.exe`` so you have to change it accordingly to your program of choice."
   ]
  },
  {
   "cell_type": "code",
   "execution_count": 4,
   "metadata": {
    "collapsed": true
   },
   "outputs": [],
   "source": [
    "water.view(viewer='gv.exe')"
   ]
  },
  {
   "cell_type": "markdown",
   "metadata": {},
   "source": [
    "To make this setting permament, execute:"
   ]
  },
  {
   "cell_type": "code",
   "execution_count": 5,
   "metadata": {
    "collapsed": true
   },
   "outputs": [],
   "source": [
    "cc.settings['defaults']['viewer'] = 'gv.exe'  # replace by your viewer of choice"
   ]
  },
  {
   "cell_type": "markdown",
   "metadata": {},
   "source": [
    "# Slicing"
   ]
  },
  {
   "cell_type": "markdown",
   "metadata": {},
   "source": [
    "The slicing operations are the same as for ``pandas.DataFrames``. (http://pandas.pydata.org/pandas-docs/stable/indexing.html)"
   ]
  },
  {
   "cell_type": "markdown",
   "metadata": {},
   "source": [
    "If the ``'x'`` axis is of particular interest you can slice it out with:"
   ]
  },
  {
   "cell_type": "code",
   "execution_count": 6,
   "metadata": {},
   "outputs": [
    {
     "data": {
      "text/plain": [
       "1    0.000000\n",
       "2    0.758602\n",
       "3    0.260455\n",
       "4    3.000000\n",
       "5    3.758602\n",
       "6    3.260455\n",
       "Name: x, dtype: float64"
      ]
     },
     "execution_count": 6,
     "metadata": {},
     "output_type": "execute_result"
    }
   ],
   "source": [
    "water['x']\n",
    "# or explicit label based indexing\n",
    "water.loc[:, 'x']\n",
    "# or explicit integer based indexing\n",
    "water.iloc[:, 1]"
   ]
  },
  {
   "cell_type": "markdown",
   "metadata": {},
   "source": [
    "With boolean slicing it is very easy to  cut all the oxygens away:"
   ]
  },
  {
   "cell_type": "code",
   "execution_count": 7,
   "metadata": {
    "collapsed": true
   },
   "outputs": [],
   "source": [
    "water[water['atom'] != 'O'].view()"
   ]
  },
  {
   "cell_type": "markdown",
   "metadata": {},
   "source": [
    "This can be combined with other selections:"
   ]
  },
  {
   "cell_type": "code",
   "execution_count": 8,
   "metadata": {
    "collapsed": true
   },
   "outputs": [],
   "source": [
    "water[(water['atom'] != 'O') & (water['x'] < 1)].view()"
   ]
  },
  {
   "cell_type": "markdown",
   "metadata": {},
   "source": [
    "### Returned type"
   ]
  },
  {
   "cell_type": "markdown",
   "metadata": {},
   "source": [
    "The indexing behaves like Indexing and Selecting data in\n",
    "[Pandas](<http://pandas.pydata.org/pandas-docs/stable/indexing.html>).\n",
    "You can slice with `Cartesian.loc[key]`, `Cartesian.iloc[keys]`, and `Cartesian[key]`.\n",
    "The only question is about the return type.\n",
    "If the information in the columns is enough to draw a molecule,\n",
    "an instance of the own class (e.g. `Cartesian`)\n",
    "is returned.\n",
    "If the information in the columns is not enough to draw a molecule, there \n",
    "are two cases to consider:\n",
    "\n",
    "* A `pandas.Series` instance is returned for one dimensional slices\n",
    "* A `pandas.DataFrame` instance is returned in all other cases:\n",
    "\n",
    "        molecule.loc[:, ['atom', 'x', 'y', 'z']] returns a `Cartesian`.\n",
    "\n",
    "        molecule.loc[:, ['atom', 'x']]`` returns a `pandas.DataFrame`.\n",
    "\n",
    "        molecule.loc[:, 'atom']`` returns a `pandas.Series`."
   ]
  },
  {
   "cell_type": "markdown",
   "metadata": {},
   "source": [
    "# Chemical bonds"
   ]
  },
  {
   "cell_type": "markdown",
   "metadata": {},
   "source": [
    "One really important method is ``get_bonds()``. \n",
    "It returns a connectivity table, which is represented by a dictionary.\n",
    "Each index points to set of indices, that are connected to it."
   ]
  },
  {
   "cell_type": "code",
   "execution_count": 9,
   "metadata": {},
   "outputs": [
    {
     "data": {
      "text/plain": [
       "{1: {2, 3}, 2: {1}, 3: {1}, 4: {5, 6}, 5: {4}, 6: {4}}"
      ]
     },
     "execution_count": 9,
     "metadata": {},
     "output_type": "execute_result"
    }
   ],
   "source": [
    "water.get_bonds()"
   ]
  },
  {
   "cell_type": "markdown",
   "metadata": {},
   "source": [
    "In order to play around with the coordinationsphere, we have to import another molecule"
   ]
  },
  {
   "cell_type": "code",
   "execution_count": null,
   "metadata": {
    "collapsed": true
   },
   "outputs": [],
   "source": [
    "small = cc.Cartesian.read_xyz('MIL53_small.xyz', start_index=1)\n",
    "middle = cc.Cartesian.read_xyz('MIL53_middle.xyz', start_index=1)"
   ]
  },
  {
   "cell_type": "markdown",
   "metadata": {},
   "source": [
    "Let's explore the coordinationsphere of the Cr atom with the index 7."
   ]
  },
  {
   "cell_type": "code",
   "execution_count": null,
   "metadata": {
    "collapsed": true
   },
   "outputs": [],
   "source": [
    "for i in range(3):\n",
    "    small.connected_to(7, n_sphere=i).view()\n",
    "    time.sleep(1)"
   ]
  },
  {
   "cell_type": "markdown",
   "metadata": {},
   "source": [
    "We can also partition the molecule into subsets of the same chemical environment"
   ]
  },
  {
   "cell_type": "code",
   "execution_count": 12,
   "metadata": {},
   "outputs": [
    {
     "data": {
      "text/plain": [
       "{('C', frozenset({('C', 4), ('Cr', 2), ('H', 7), ('O', 7)})): {2, 5, 14, 21},\n",
       " ('C', frozenset({('C', 6), ('Cr', 2), ('H', 8), ('O', 11)})): {10, 17},\n",
       " ('C', frozenset({('C', 1), ('Cr', 2), ('H', 3), ('O', 11)})): {24, 32},\n",
       " ('C', frozenset({('C', 1), ('Cr', 1), ('H', 4), ('O', 7)})): {27, 31, 33, 34},\n",
       " ('Cr', frozenset({('C', 10), ('Cr', 1), ('H', 19), ('O', 13)})): {6, 11},\n",
       " ('H', frozenset({('C', 2), ('Cr', 2), ('H', 2), ('O', 2)})): {25,\n",
       "  26,\n",
       "  35,\n",
       "  36,\n",
       "  37,\n",
       "  38},\n",
       " ('H', frozenset({('C', 2), ('Cr', 1), ('H', 3), ('O', 2)})): {28,\n",
       "  29,\n",
       "  30,\n",
       "  39,\n",
       "  40,\n",
       "  41,\n",
       "  42,\n",
       "  43,\n",
       "  44,\n",
       "  45,\n",
       "  46,\n",
       "  47,\n",
       "  49,\n",
       "  50,\n",
       "  51,\n",
       "  52},\n",
       " ('H', frozenset({('C', 4), ('Cr', 2), ('H', 2), ('O', 6)})): {48, 54, 55, 56},\n",
       " ('H', frozenset({('C', 6), ('Cr', 2), ('H', 4), ('O', 11)})): {53},\n",
       " ('O', frozenset({('C', 2), ('Cr', 1), ('H', 4), ('O', 6)})): {1, 4, 22, 23},\n",
       " ('O', frozenset({('C', 8), ('Cr', 2), ('H', 3), ('O', 12)})): {3, 18},\n",
       " ('O', frozenset({('C', 12), ('Cr', 2), ('H', 5), ('O', 14)})): {7},\n",
       " ('O', frozenset({('C', 8), ('Cr', 2), ('H', 6), ('O', 12)})): {8, 12, 16, 20},\n",
       " ('O', frozenset({('C', 8), ('Cr', 2), ('H', 7), ('O', 12)})): {9, 13, 15, 19}}"
      ]
     },
     "execution_count": 12,
     "metadata": {},
     "output_type": "execute_result"
    }
   ],
   "source": [
    "small.partition_chem_env()"
   ]
  },
  {
   "cell_type": "markdown",
   "metadata": {},
   "source": [
    "Another task we can easily solve is: making cuts of different geometrical shape, while preserving covalent bonds."
   ]
  },
  {
   "cell_type": "code",
   "execution_count": 13,
   "metadata": {
    "collapsed": true
   },
   "outputs": [],
   "source": [
    "middle.view()\n",
    "middle.cutsphere(radius=5, preserve_bonds=False).view()"
   ]
  },
  {
   "cell_type": "markdown",
   "metadata": {},
   "source": [
    "# Binary operators"
   ]
  },
  {
   "cell_type": "markdown",
   "metadata": {},
   "source": [
    "### Mathematical Operations:"
   ]
  },
  {
   "cell_type": "markdown",
   "metadata": {},
   "source": [
    "Binary operators are supported in the logic of the scipy stack, but you need\n",
    "python3.x for using the matrix multiplication operator ``@``.\n",
    "\n",
    "The general rule is that mathematical operations using the binary operators\n",
    "``+ - * / @`` and the unary operatos ``+ - abs``\n",
    "are only applied to the ``['x', 'y', 'z']`` columns.\n",
    "\n",
    "**Addition/Subtraction/Multiplication/Division**:\n",
    "If you add a scalar to a Cartesian it is added elementwise onto the\n",
    "``['x', 'y', 'z']`` columns.\n",
    "If you add a 3-dimensional vector, list, tuple... the first element of this\n",
    "vector is added elementwise to the ``'x'`` column of the\n",
    "Cartesian instance and so on.\n",
    "The last possibility is to add a matrix with\n",
    "``shape=(len(Cartesian), 3)`` which is again added elementwise.\n",
    "The same rules are true for subtraction, division and multiplication.\n",
    "\n",
    "**Matrixmultiplication**:\n",
    "Only leftsided multiplication with a matrix of ``shape=(n, 3)``,\n",
    "where ``n`` is a natural number, is supported.\n",
    "The usual usecase is for example\n",
    "``np.diag([1, 1, -1]) @ cartesian_instance``\n",
    "to mirror on the x-y plane."
   ]
  },
  {
   "cell_type": "code",
   "execution_count": 14,
   "metadata": {
    "collapsed": true
   },
   "outputs": [],
   "source": [
    "(water + 3).view()"
   ]
  },
  {
   "cell_type": "code",
   "execution_count": 16,
   "metadata": {
    "collapsed": true
   },
   "outputs": [],
   "source": [
    "rot_mat = cc.utilities.algebra_utilities.rotation_matrix\n",
    "(rot_mat([1, 0, 0], np.pi / 2) @ water).view()\n",
    "# If you use python2.x the @ operator is not supported then you have to use:\n",
    "# cc.xyz_functions.dot(rot_mat([1, 0, 0], np.pi / 2), water).view()"
   ]
  },
  {
   "cell_type": "markdown",
   "metadata": {},
   "source": [
    "### Comparison:"
   ]
  },
  {
   "cell_type": "markdown",
   "metadata": {},
   "source": [
    "The comparison operators ``==`` and ``!=`` are supported and require molecules indexed in the same way:"
   ]
  },
  {
   "cell_type": "markdown",
   "metadata": {},
   "source": [
    "In some cases it is better to test for numerical equality $ |a - b| < \\epsilon$. This is done using\n",
    "``allclose`` or ``isclose`` (elementwise)"
   ]
  },
  {
   "cell_type": "code",
   "execution_count": 17,
   "metadata": {},
   "outputs": [
    {
     "data": {
      "text/html": [
       "<div>\n",
       "<style>\n",
       "    .dataframe thead tr:only-child th {\n",
       "        text-align: right;\n",
       "    }\n",
       "\n",
       "    .dataframe thead th {\n",
       "        text-align: left;\n",
       "    }\n",
       "\n",
       "    .dataframe tbody tr th {\n",
       "        vertical-align: top;\n",
       "    }\n",
       "</style>\n",
       "<table border=\"1\" class=\"dataframe\">\n",
       "  <thead>\n",
       "    <tr style=\"text-align: right;\">\n",
       "      <th></th>\n",
       "      <th>atom</th>\n",
       "      <th>x</th>\n",
       "      <th>y</th>\n",
       "      <th>z</th>\n",
       "    </tr>\n",
       "  </thead>\n",
       "  <tbody>\n",
       "    <tr>\n",
       "      <th>1</th>\n",
       "      <td>True</td>\n",
       "      <td>False</td>\n",
       "      <td>False</td>\n",
       "      <td>False</td>\n",
       "    </tr>\n",
       "    <tr>\n",
       "      <th>2</th>\n",
       "      <td>True</td>\n",
       "      <td>False</td>\n",
       "      <td>False</td>\n",
       "      <td>False</td>\n",
       "    </tr>\n",
       "    <tr>\n",
       "      <th>3</th>\n",
       "      <td>True</td>\n",
       "      <td>False</td>\n",
       "      <td>False</td>\n",
       "      <td>False</td>\n",
       "    </tr>\n",
       "    <tr>\n",
       "      <th>4</th>\n",
       "      <td>True</td>\n",
       "      <td>False</td>\n",
       "      <td>False</td>\n",
       "      <td>False</td>\n",
       "    </tr>\n",
       "    <tr>\n",
       "      <th>5</th>\n",
       "      <td>True</td>\n",
       "      <td>False</td>\n",
       "      <td>False</td>\n",
       "      <td>False</td>\n",
       "    </tr>\n",
       "    <tr>\n",
       "      <th>6</th>\n",
       "      <td>True</td>\n",
       "      <td>False</td>\n",
       "      <td>False</td>\n",
       "      <td>False</td>\n",
       "    </tr>\n",
       "  </tbody>\n",
       "</table>\n",
       "</div>"
      ],
      "text/plain": [
       "   atom      x      y      z\n",
       "1  True  False  False  False\n",
       "2  True  False  False  False\n",
       "3  True  False  False  False\n",
       "4  True  False  False  False\n",
       "5  True  False  False  False\n",
       "6  True  False  False  False"
      ]
     },
     "execution_count": 17,
     "metadata": {},
     "output_type": "execute_result"
    }
   ],
   "source": [
    "water == water + 1e-15"
   ]
  },
  {
   "cell_type": "code",
   "execution_count": 18,
   "metadata": {},
   "outputs": [
    {
     "data": {
      "text/html": [
       "<div>\n",
       "<style>\n",
       "    .dataframe thead tr:only-child th {\n",
       "        text-align: right;\n",
       "    }\n",
       "\n",
       "    .dataframe thead th {\n",
       "        text-align: left;\n",
       "    }\n",
       "\n",
       "    .dataframe tbody tr th {\n",
       "        vertical-align: top;\n",
       "    }\n",
       "</style>\n",
       "<table border=\"1\" class=\"dataframe\">\n",
       "  <thead>\n",
       "    <tr style=\"text-align: right;\">\n",
       "      <th></th>\n",
       "      <th>atom</th>\n",
       "      <th>x</th>\n",
       "      <th>y</th>\n",
       "      <th>z</th>\n",
       "    </tr>\n",
       "  </thead>\n",
       "  <tbody>\n",
       "    <tr>\n",
       "      <th>1</th>\n",
       "      <td>True</td>\n",
       "      <td>True</td>\n",
       "      <td>True</td>\n",
       "      <td>True</td>\n",
       "    </tr>\n",
       "    <tr>\n",
       "      <th>2</th>\n",
       "      <td>True</td>\n",
       "      <td>True</td>\n",
       "      <td>True</td>\n",
       "      <td>True</td>\n",
       "    </tr>\n",
       "    <tr>\n",
       "      <th>3</th>\n",
       "      <td>True</td>\n",
       "      <td>True</td>\n",
       "      <td>True</td>\n",
       "      <td>True</td>\n",
       "    </tr>\n",
       "    <tr>\n",
       "      <th>4</th>\n",
       "      <td>True</td>\n",
       "      <td>True</td>\n",
       "      <td>True</td>\n",
       "      <td>True</td>\n",
       "    </tr>\n",
       "    <tr>\n",
       "      <th>5</th>\n",
       "      <td>True</td>\n",
       "      <td>True</td>\n",
       "      <td>True</td>\n",
       "      <td>True</td>\n",
       "    </tr>\n",
       "    <tr>\n",
       "      <th>6</th>\n",
       "      <td>True</td>\n",
       "      <td>True</td>\n",
       "      <td>True</td>\n",
       "      <td>True</td>\n",
       "    </tr>\n",
       "  </tbody>\n",
       "</table>\n",
       "</div>"
      ],
      "text/plain": [
       "   atom     x     y     z\n",
       "1  True  True  True  True\n",
       "2  True  True  True  True\n",
       "3  True  True  True  True\n",
       "4  True  True  True  True\n",
       "5  True  True  True  True\n",
       "6  True  True  True  True"
      ]
     },
     "execution_count": 18,
     "metadata": {},
     "output_type": "execute_result"
    }
   ],
   "source": [
    "cc.xyz_functions.isclose(water, water + 1e-15)"
   ]
  },
  {
   "cell_type": "code",
   "execution_count": 19,
   "metadata": {},
   "outputs": [
    {
     "data": {
      "text/plain": [
       "True"
      ]
     },
     "execution_count": 19,
     "metadata": {},
     "output_type": "execute_result"
    }
   ],
   "source": [
    "cc.xyz_functions.allclose(water, water + 1e-15)"
   ]
  },
  {
   "cell_type": "markdown",
   "metadata": {
    "collapsed": true
   },
   "source": [
    "# Symbolic evaluation"
   ]
  },
  {
   "cell_type": "markdown",
   "metadata": {},
   "source": [
    "# Symmetry"
   ]
  },
  {
   "cell_type": "code",
   "execution_count": null,
   "metadata": {
    "collapsed": true
   },
   "outputs": [],
   "source": []
  }
 ],
 "metadata": {
  "anaconda-cloud": {},
  "kernelspec": {
   "display_name": "Python [default]",
   "language": "python",
   "name": "python3"
  },
  "language_info": {
   "codemirror_mode": {
    "name": "ipython",
    "version": 3
   },
   "file_extension": ".py",
   "mimetype": "text/x-python",
   "name": "python",
   "nbconvert_exporter": "python",
   "pygments_lexer": "ipython3",
   "version": "3.6.2"
  }
 },
 "nbformat": 4,
 "nbformat_minor": 1
}

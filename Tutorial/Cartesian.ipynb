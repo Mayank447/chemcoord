{
 "cells": [
  {
   "cell_type": "markdown",
   "metadata": {
    "collapsed": true
   },
   "source": [
    "Welcome to the tutorial for ChemCoord (http://chemcoord.readthedocs.org/).\n",
    "\n",
    "It is recommended to use a molecule viewer like ``MOLCAS gv``, ``avogadro``, ``VMD`` or ``molpy`` to look on the created files."
   ]
  },
  {
   "cell_type": "code",
   "execution_count": 1,
   "metadata": {
    "collapsed": true
   },
   "outputs": [],
   "source": [
    "import chemcoord as cc\n",
    "import pandas as pd\n",
    "import math as m\n",
    "import numpy as np\n",
    "import urllib"
   ]
  },
  {
   "cell_type": "markdown",
   "metadata": {},
   "source": [
    "We need to download four example xyz-files."
   ]
  },
  {
   "cell_type": "code",
   "execution_count": 2,
   "metadata": {
    "collapsed": true
   },
   "outputs": [],
   "source": [
    "# download_dict = {'MIL53_middle.xyz' : 'https://gist.githubusercontent.com/mcocdawc/513adab051ba9a871b48/raw/b1210b34e53e3874982d4e794d46d7629696ca2c/MIL53_middle.xyz',\n",
    "#                 'MIL53_small.xyz' : 'https://gist.githubusercontent.com/mcocdawc/513adab051ba9a871b48/raw/b1210b34e53e3874982d4e794d46d7629696ca2c/MIL53_small.xyz',\n",
    "#                  'nasty_linear.xyz' : 'https://gist.githubusercontent.com/mcocdawc/513adab051ba9a871b48/raw/b1210b34e53e3874982d4e794d46d7629696ca2c/nasty_linear.xyz',\n",
    "#                  'nasty_cube.xyz' : 'https://gist.githubusercontent.com/mcocdawc/513adab051ba9a871b48/raw/b1210b34e53e3874982d4e794d46d7629696ca2c/nasty_cube.xyz'\n",
    "#                 }\n",
    "# for file, url in download_dict.items():\n",
    "#     urllib.request.urlretrieve(url, file)"
   ]
  },
  {
   "cell_type": "code",
   "execution_count": 2,
   "metadata": {
    "collapsed": true
   },
   "outputs": [],
   "source": [
    "# pew pew"
   ]
  },
  {
   "cell_type": "markdown",
   "metadata": {},
   "source": [
    "# Basic stuff"
   ]
  },
  {
   "cell_type": "markdown",
   "metadata": {},
   "source": [
    "Import an xyz-file with the read method"
   ]
  },
  {
   "cell_type": "code",
   "execution_count": 3,
   "metadata": {
    "collapsed": true
   },
   "outputs": [],
   "source": [
    "small = cc.read('MIL53_small.xyz')\n",
    "middle = cc.read('MIL53_middle.xyz')"
   ]
  },
  {
   "cell_type": "code",
   "execution_count": 4,
   "metadata": {
    "collapsed": true
   },
   "outputs": [],
   "source": [
    "z_small = small.to_zmat()"
   ]
  },
  {
   "cell_type": "code",
   "execution_count": 5,
   "metadata": {
    "collapsed": true
   },
   "outputs": [],
   "source": [
    "z_small.to_xyz().view()"
   ]
  },
  {
   "cell_type": "markdown",
   "metadata": {},
   "source": [
    "Look at it."
   ]
  },
  {
   "cell_type": "code",
   "execution_count": 7,
   "metadata": {
    "collapsed": true
   },
   "outputs": [],
   "source": [
    "small.view()"
   ]
  },
  {
   "cell_type": "markdown",
   "metadata": {},
   "source": [
    "Add additional data"
   ]
  },
  {
   "cell_type": "code",
   "execution_count": null,
   "metadata": {
    "collapsed": true
   },
   "outputs": [],
   "source": [
    "small.add_data(['mass', 'jmol_color'])"
   ]
  },
  {
   "cell_type": "markdown",
   "metadata": {},
   "source": [
    "If you now look at ``small`` again, you see that it remained unchanged.\n",
    "This is in general true for all methods (if not otherwise stated), they return a copy of the original molecule \n",
    "and are **sideeffect free**"
   ]
  },
  {
   "cell_type": "code",
   "execution_count": null,
   "metadata": {
    "collapsed": true
   },
   "outputs": [],
   "source": [
    "small;"
   ]
  },
  {
   "cell_type": "markdown",
   "metadata": {},
   "source": [
    "If you want to know more about a function, just type ``?`` in the beginning or press ``<Shift> + <Tab>`` while typing. ``<Tab>`` completion works of course as well.\n",
    "Let's look for example at the description of ``inertia()``."
   ]
  },
  {
   "cell_type": "code",
   "execution_count": null,
   "metadata": {
    "collapsed": true
   },
   "outputs": [],
   "source": [
    "?small.inertia()"
   ]
  },
  {
   "cell_type": "code",
   "execution_count": null,
   "metadata": {
    "collapsed": true
   },
   "outputs": [],
   "source": [
    "small.inertia()['diag_inertia_tensor']"
   ]
  },
  {
   "cell_type": "markdown",
   "metadata": {},
   "source": [
    "# Slicing"
   ]
  },
  {
   "cell_type": "markdown",
   "metadata": {},
   "source": [
    "You can do all the typical slicing operations of python including boolean slicing (If you don't know it, look at the wonderful descriptions of numpy or pandas)."
   ]
  },
  {
   "cell_type": "markdown",
   "metadata": {},
   "source": [
    "If the ``'x'`` axis is of particular interest you can slice it out with:"
   ]
  },
  {
   "cell_type": "code",
   "execution_count": null,
   "metadata": {
    "collapsed": true
   },
   "outputs": [],
   "source": [
    "small[:, 'x']"
   ]
  },
  {
   "cell_type": "markdown",
   "metadata": {},
   "source": [
    "With boolean slicing it is very easy to  cut all the hydrogens away:"
   ]
  },
  {
   "cell_type": "code",
   "execution_count": null,
   "metadata": {
    "collapsed": true
   },
   "outputs": [],
   "source": [
    "small[small[:, 'atom'] != 'H', :].view()"
   ]
  },
  {
   "cell_type": "code",
   "execution_count": null,
   "metadata": {
    "collapsed": true
   },
   "outputs": [],
   "source": [
    "small.connected_to(11, follow_bonds=2).view()"
   ]
  },
  {
   "cell_type": "markdown",
   "metadata": {},
   "source": [
    "# Chemical bonds"
   ]
  },
  {
   "cell_type": "markdown",
   "metadata": {},
   "source": [
    "One really important method in the background is ``get_bonds()``. If you ask for the docstring with ``?`` you will see that it is **not sideeffect free** because it creates a lookup variable for performance reasons."
   ]
  },
  {
   "cell_type": "code",
   "execution_count": null,
   "metadata": {
    "collapsed": true
   },
   "outputs": [],
   "source": [
    "small.get_bonds()"
   ]
  },
  {
   "cell_type": "markdown",
   "metadata": {},
   "source": [
    "Perhaps you want to play a bit with the ``use_valency`` option while viewing at the molecule. If you get annoyed of the warnings just change the settings."
   ]
  },
  {
   "cell_type": "code",
   "execution_count": null,
   "metadata": {
    "collapsed": true
   },
   "outputs": [],
   "source": [
    "cc.settings['show_warnings']['valency'] = False"
   ]
  },
  {
   "cell_type": "markdown",
   "metadata": {},
   "source": [
    "Let's explore the coordinationsphere of the Cr atom with the index 6."
   ]
  },
  {
   "cell_type": "code",
   "execution_count": null,
   "metadata": {
    "collapsed": true
   },
   "outputs": [],
   "source": [
    "for i in range(8):\n",
    "    small.connected_to(6, follow_bonds=i).write('coordinationsphere_' + str(i) + '.xyz')"
   ]
  },
  {
   "cell_type": "code",
   "execution_count": null,
   "metadata": {
    "collapsed": true
   },
   "outputs": [],
   "source": [
    "# keep a clean directory\n",
    "!rm coordinationsphere_?.xyz"
   ]
  },
  {
   "cell_type": "markdown",
   "metadata": {},
   "source": [
    "We can also partition the molecule into subsets of the same chemical environment"
   ]
  },
  {
   "cell_type": "code",
   "execution_count": null,
   "metadata": {
    "collapsed": true
   },
   "outputs": [],
   "source": [
    "small.partition_chem_env()"
   ]
  },
  {
   "cell_type": "markdown",
   "metadata": {},
   "source": [
    "Another task we can easily solve is: making cuts of different geometrical shape, while preserving covalent bonds."
   ]
  },
  {
   "cell_type": "code",
   "execution_count": null,
   "metadata": {
    "collapsed": true
   },
   "outputs": [],
   "source": [
    "middle.cutsphere(radius=7, origin=13, preserve_bonds=False).write('sphere.xyz')\n",
    "middle.cutcuboid(a=11, origin=13, preserve_bonds=False).write('cube.xyz')\n",
    "middle.cutsphere(radius=7, origin=13, preserve_bonds=True).write('sphere2.xyz')"
   ]
  },
  {
   "cell_type": "code",
   "execution_count": null,
   "metadata": {
    "collapsed": true
   },
   "outputs": [],
   "source": [
    "# keep a clean directory\n",
    "!rm sphere.xyz cube.xyz sphere2.xyz"
   ]
  },
  {
   "cell_type": "markdown",
   "metadata": {},
   "source": [
    "You have access to a lot more methods not presented here. Just compare with the documentation."
   ]
  },
  {
   "cell_type": "markdown",
   "metadata": {},
   "source": [
    "# Transformation to internal coordinates"
   ]
  },
  {
   "cell_type": "code",
   "execution_count": 6,
   "metadata": {
    "collapsed": true
   },
   "outputs": [],
   "source": [
    "small.view()"
   ]
  },
  {
   "cell_type": "code",
   "execution_count": 7,
   "metadata": {
    "collapsed": true
   },
   "outputs": [],
   "source": [
    "z_small = small.to_zmat()"
   ]
  },
  {
   "cell_type": "markdown",
   "metadata": {},
   "source": [
    "If you look closely at the atoms that were chosen as reference, you can see that it is quite similar to how a chemist would choose them."
   ]
  },
  {
   "cell_type": "code",
   "execution_count": 8,
   "metadata": {},
   "outputs": [
    {
     "data": {
      "text/html": [
       "<div>\n",
       "<table border=\"1\" class=\"dataframe\">\n",
       "  <thead>\n",
       "    <tr style=\"text-align: right;\">\n",
       "      <th></th>\n",
       "      <th>atom</th>\n",
       "      <th>bond_with</th>\n",
       "      <th>bond</th>\n",
       "      <th>angle_with</th>\n",
       "      <th>angle</th>\n",
       "      <th>dihedral_with</th>\n",
       "      <th>dihedral</th>\n",
       "    </tr>\n",
       "  </thead>\n",
       "  <tbody>\n",
       "    <tr>\n",
       "      <th>7</th>\n",
       "      <td>O</td>\n",
       "      <td>NaN</td>\n",
       "      <td>NaN</td>\n",
       "      <td>NaN</td>\n",
       "      <td>NaN</td>\n",
       "      <td>NaN</td>\n",
       "      <td>NaN</td>\n",
       "    </tr>\n",
       "    <tr>\n",
       "      <th>11</th>\n",
       "      <td>Cr</td>\n",
       "      <td>7.0</td>\n",
       "      <td>1.952026</td>\n",
       "      <td>NaN</td>\n",
       "      <td>NaN</td>\n",
       "      <td>NaN</td>\n",
       "      <td>NaN</td>\n",
       "    </tr>\n",
       "    <tr>\n",
       "      <th>53</th>\n",
       "      <td>H</td>\n",
       "      <td>7.0</td>\n",
       "      <td>0.890000</td>\n",
       "      <td>11.0</td>\n",
       "      <td>119.132614</td>\n",
       "      <td>NaN</td>\n",
       "      <td>NaN</td>\n",
       "    </tr>\n",
       "    <tr>\n",
       "      <th>6</th>\n",
       "      <td>Cr</td>\n",
       "      <td>7.0</td>\n",
       "      <td>1.952026</td>\n",
       "      <td>11.0</td>\n",
       "      <td>121.734771</td>\n",
       "      <td>53.0</td>\n",
       "      <td>180.000000</td>\n",
       "    </tr>\n",
       "    <tr>\n",
       "      <th>16</th>\n",
       "      <td>O</td>\n",
       "      <td>6.0</td>\n",
       "      <td>1.949800</td>\n",
       "      <td>7.0</td>\n",
       "      <td>90.270495</td>\n",
       "      <td>11.0</td>\n",
       "      <td>309.305333</td>\n",
       "    </tr>\n",
       "    <tr>\n",
       "      <th>8</th>\n",
       "      <td>O</td>\n",
       "      <td>6.0</td>\n",
       "      <td>1.949800</td>\n",
       "      <td>7.0</td>\n",
       "      <td>90.270495</td>\n",
       "      <td>11.0</td>\n",
       "      <td>50.694667</td>\n",
       "    </tr>\n",
       "    <tr>\n",
       "      <th>3</th>\n",
       "      <td>O</td>\n",
       "      <td>6.0</td>\n",
       "      <td>1.951342</td>\n",
       "      <td>7.0</td>\n",
       "      <td>180.000000</td>\n",
       "      <td>11.0</td>\n",
       "      <td>180.000000</td>\n",
       "    </tr>\n",
       "    <tr>\n",
       "      <th>9</th>\n",
       "      <td>O</td>\n",
       "      <td>6.0</td>\n",
       "      <td>1.936862</td>\n",
       "      <td>7.0</td>\n",
       "      <td>86.222347</td>\n",
       "      <td>11.0</td>\n",
       "      <td>140.422999</td>\n",
       "    </tr>\n",
       "    <tr>\n",
       "      <th>15</th>\n",
       "      <td>O</td>\n",
       "      <td>6.0</td>\n",
       "      <td>1.936862</td>\n",
       "      <td>7.0</td>\n",
       "      <td>86.222347</td>\n",
       "      <td>11.0</td>\n",
       "      <td>219.577001</td>\n",
       "    </tr>\n",
       "    <tr>\n",
       "      <th>5</th>\n",
       "      <td>C</td>\n",
       "      <td>15.0</td>\n",
       "      <td>1.304149</td>\n",
       "      <td>6.0</td>\n",
       "      <td>139.863676</td>\n",
       "      <td>7.0</td>\n",
       "      <td>185.520489</td>\n",
       "    </tr>\n",
       "    <tr>\n",
       "      <th>4</th>\n",
       "      <td>O</td>\n",
       "      <td>5.0</td>\n",
       "      <td>1.304149</td>\n",
       "      <td>15.0</td>\n",
       "      <td>113.561691</td>\n",
       "      <td>6.0</td>\n",
       "      <td>23.962716</td>\n",
       "    </tr>\n",
       "    <tr>\n",
       "      <th>31</th>\n",
       "      <td>C</td>\n",
       "      <td>5.0</td>\n",
       "      <td>1.460789</td>\n",
       "      <td>15.0</td>\n",
       "      <td>123.219166</td>\n",
       "      <td>6.0</td>\n",
       "      <td>203.962617</td>\n",
       "    </tr>\n",
       "    <tr>\n",
       "      <th>41</th>\n",
       "      <td>H</td>\n",
       "      <td>31.0</td>\n",
       "      <td>1.139673</td>\n",
       "      <td>5.0</td>\n",
       "      <td>108.068992</td>\n",
       "      <td>15.0</td>\n",
       "      <td>311.270966</td>\n",
       "    </tr>\n",
       "    <tr>\n",
       "      <th>44</th>\n",
       "      <td>H</td>\n",
       "      <td>31.0</td>\n",
       "      <td>1.013970</td>\n",
       "      <td>5.0</td>\n",
       "      <td>116.103706</td>\n",
       "      <td>15.0</td>\n",
       "      <td>186.899704</td>\n",
       "    </tr>\n",
       "    <tr>\n",
       "      <th>47</th>\n",
       "      <td>H</td>\n",
       "      <td>31.0</td>\n",
       "      <td>1.132098</td>\n",
       "      <td>5.0</td>\n",
       "      <td>108.508067</td>\n",
       "      <td>15.0</td>\n",
       "      <td>61.360552</td>\n",
       "    </tr>\n",
       "    <tr>\n",
       "      <th>12</th>\n",
       "      <td>O</td>\n",
       "      <td>11.0</td>\n",
       "      <td>1.949800</td>\n",
       "      <td>7.0</td>\n",
       "      <td>90.270495</td>\n",
       "      <td>53.0</td>\n",
       "      <td>129.305333</td>\n",
       "    </tr>\n",
       "    <tr>\n",
       "      <th>10</th>\n",
       "      <td>C</td>\n",
       "      <td>12.0</td>\n",
       "      <td>1.303680</td>\n",
       "      <td>11.0</td>\n",
       "      <td>138.980553</td>\n",
       "      <td>7.0</td>\n",
       "      <td>18.815334</td>\n",
       "    </tr>\n",
       "    <tr>\n",
       "      <th>24</th>\n",
       "      <td>C</td>\n",
       "      <td>10.0</td>\n",
       "      <td>1.460790</td>\n",
       "      <td>12.0</td>\n",
       "      <td>121.477117</td>\n",
       "      <td>11.0</td>\n",
       "      <td>188.190326</td>\n",
       "    </tr>\n",
       "    <tr>\n",
       "      <th>25</th>\n",
       "      <td>H</td>\n",
       "      <td>24.0</td>\n",
       "      <td>1.092764</td>\n",
       "      <td>10.0</td>\n",
       "      <td>110.882645</td>\n",
       "      <td>12.0</td>\n",
       "      <td>209.990809</td>\n",
       "    </tr>\n",
       "    <tr>\n",
       "      <th>26</th>\n",
       "      <td>H</td>\n",
       "      <td>24.0</td>\n",
       "      <td>1.092501</td>\n",
       "      <td>10.0</td>\n",
       "      <td>110.887878</td>\n",
       "      <td>12.0</td>\n",
       "      <td>89.999961</td>\n",
       "    </tr>\n",
       "    <tr>\n",
       "      <th>36</th>\n",
       "      <td>H</td>\n",
       "      <td>24.0</td>\n",
       "      <td>1.092764</td>\n",
       "      <td>10.0</td>\n",
       "      <td>110.882645</td>\n",
       "      <td>12.0</td>\n",
       "      <td>330.009113</td>\n",
       "    </tr>\n",
       "    <tr>\n",
       "      <th>20</th>\n",
       "      <td>O</td>\n",
       "      <td>11.0</td>\n",
       "      <td>1.949800</td>\n",
       "      <td>12.0</td>\n",
       "      <td>101.387774</td>\n",
       "      <td>7.0</td>\n",
       "      <td>269.669588</td>\n",
       "    </tr>\n",
       "    <tr>\n",
       "      <th>17</th>\n",
       "      <td>C</td>\n",
       "      <td>20.0</td>\n",
       "      <td>1.303680</td>\n",
       "      <td>11.0</td>\n",
       "      <td>138.980553</td>\n",
       "      <td>12.0</td>\n",
       "      <td>71.515078</td>\n",
       "    </tr>\n",
       "    <tr>\n",
       "      <th>32</th>\n",
       "      <td>C</td>\n",
       "      <td>17.0</td>\n",
       "      <td>1.460790</td>\n",
       "      <td>20.0</td>\n",
       "      <td>121.477117</td>\n",
       "      <td>11.0</td>\n",
       "      <td>171.809674</td>\n",
       "    </tr>\n",
       "    <tr>\n",
       "      <th>35</th>\n",
       "      <td>H</td>\n",
       "      <td>32.0</td>\n",
       "      <td>1.092764</td>\n",
       "      <td>17.0</td>\n",
       "      <td>110.882645</td>\n",
       "      <td>20.0</td>\n",
       "      <td>29.990887</td>\n",
       "    </tr>\n",
       "    <tr>\n",
       "      <th>37</th>\n",
       "      <td>H</td>\n",
       "      <td>32.0</td>\n",
       "      <td>1.092764</td>\n",
       "      <td>17.0</td>\n",
       "      <td>110.882645</td>\n",
       "      <td>20.0</td>\n",
       "      <td>150.009191</td>\n",
       "    </tr>\n",
       "    <tr>\n",
       "      <th>38</th>\n",
       "      <td>H</td>\n",
       "      <td>32.0</td>\n",
       "      <td>1.092501</td>\n",
       "      <td>17.0</td>\n",
       "      <td>110.887878</td>\n",
       "      <td>20.0</td>\n",
       "      <td>270.000039</td>\n",
       "    </tr>\n",
       "    <tr>\n",
       "      <th>13</th>\n",
       "      <td>O</td>\n",
       "      <td>11.0</td>\n",
       "      <td>1.936862</td>\n",
       "      <td>12.0</td>\n",
       "      <td>89.746747</td>\n",
       "      <td>20.0</td>\n",
       "      <td>176.551481</td>\n",
       "    </tr>\n",
       "    <tr>\n",
       "      <th>14</th>\n",
       "      <td>C</td>\n",
       "      <td>13.0</td>\n",
       "      <td>1.304149</td>\n",
       "      <td>11.0</td>\n",
       "      <td>139.863676</td>\n",
       "      <td>12.0</td>\n",
       "      <td>95.232681</td>\n",
       "    </tr>\n",
       "    <tr>\n",
       "      <th>33</th>\n",
       "      <td>C</td>\n",
       "      <td>14.0</td>\n",
       "      <td>1.460789</td>\n",
       "      <td>13.0</td>\n",
       "      <td>123.219166</td>\n",
       "      <td>11.0</td>\n",
       "      <td>203.962617</td>\n",
       "    </tr>\n",
       "    <tr>\n",
       "      <th>22</th>\n",
       "      <td>O</td>\n",
       "      <td>14.0</td>\n",
       "      <td>1.304149</td>\n",
       "      <td>13.0</td>\n",
       "      <td>113.561691</td>\n",
       "      <td>11.0</td>\n",
       "      <td>23.962716</td>\n",
       "    </tr>\n",
       "    <tr>\n",
       "      <th>49</th>\n",
       "      <td>H</td>\n",
       "      <td>22.0</td>\n",
       "      <td>0.970000</td>\n",
       "      <td>14.0</td>\n",
       "      <td>106.000000</td>\n",
       "      <td>13.0</td>\n",
       "      <td>180.000000</td>\n",
       "    </tr>\n",
       "    <tr>\n",
       "      <th>19</th>\n",
       "      <td>O</td>\n",
       "      <td>11.0</td>\n",
       "      <td>1.936862</td>\n",
       "      <td>13.0</td>\n",
       "      <td>78.948348</td>\n",
       "      <td>12.0</td>\n",
       "      <td>177.170556</td>\n",
       "    </tr>\n",
       "    <tr>\n",
       "      <th>21</th>\n",
       "      <td>C</td>\n",
       "      <td>19.0</td>\n",
       "      <td>1.304149</td>\n",
       "      <td>11.0</td>\n",
       "      <td>139.863676</td>\n",
       "      <td>13.0</td>\n",
       "      <td>87.596763</td>\n",
       "    </tr>\n",
       "    <tr>\n",
       "      <th>34</th>\n",
       "      <td>C</td>\n",
       "      <td>21.0</td>\n",
       "      <td>1.460789</td>\n",
       "      <td>19.0</td>\n",
       "      <td>123.219166</td>\n",
       "      <td>11.0</td>\n",
       "      <td>156.037383</td>\n",
       "    </tr>\n",
       "    <tr>\n",
       "      <th>23</th>\n",
       "      <td>O</td>\n",
       "      <td>21.0</td>\n",
       "      <td>1.304149</td>\n",
       "      <td>19.0</td>\n",
       "      <td>113.561691</td>\n",
       "      <td>11.0</td>\n",
       "      <td>336.037284</td>\n",
       "    </tr>\n",
       "    <tr>\n",
       "      <th>50</th>\n",
       "      <td>H</td>\n",
       "      <td>23.0</td>\n",
       "      <td>0.970000</td>\n",
       "      <td>21.0</td>\n",
       "      <td>106.000000</td>\n",
       "      <td>19.0</td>\n",
       "      <td>180.000000</td>\n",
       "    </tr>\n",
       "    <tr>\n",
       "      <th>18</th>\n",
       "      <td>O</td>\n",
       "      <td>11.0</td>\n",
       "      <td>1.951342</td>\n",
       "      <td>13.0</td>\n",
       "      <td>93.764988</td>\n",
       "      <td>19.0</td>\n",
       "      <td>93.106761</td>\n",
       "    </tr>\n",
       "    <tr>\n",
       "      <th>48</th>\n",
       "      <td>H</td>\n",
       "      <td>18.0</td>\n",
       "      <td>0.890000</td>\n",
       "      <td>11.0</td>\n",
       "      <td>127.750000</td>\n",
       "      <td>13.0</td>\n",
       "      <td>140.423689</td>\n",
       "    </tr>\n",
       "    <tr>\n",
       "      <th>54</th>\n",
       "      <td>H</td>\n",
       "      <td>18.0</td>\n",
       "      <td>0.890000</td>\n",
       "      <td>11.0</td>\n",
       "      <td>127.750000</td>\n",
       "      <td>13.0</td>\n",
       "      <td>320.423689</td>\n",
       "    </tr>\n",
       "    <tr>\n",
       "      <th>2</th>\n",
       "      <td>C</td>\n",
       "      <td>9.0</td>\n",
       "      <td>1.304149</td>\n",
       "      <td>6.0</td>\n",
       "      <td>139.863676</td>\n",
       "      <td>15.0</td>\n",
       "      <td>87.596763</td>\n",
       "    </tr>\n",
       "    <tr>\n",
       "      <th>1</th>\n",
       "      <td>O</td>\n",
       "      <td>2.0</td>\n",
       "      <td>1.304149</td>\n",
       "      <td>9.0</td>\n",
       "      <td>113.561691</td>\n",
       "      <td>6.0</td>\n",
       "      <td>336.037284</td>\n",
       "    </tr>\n",
       "    <tr>\n",
       "      <th>27</th>\n",
       "      <td>C</td>\n",
       "      <td>2.0</td>\n",
       "      <td>1.460789</td>\n",
       "      <td>9.0</td>\n",
       "      <td>123.219166</td>\n",
       "      <td>6.0</td>\n",
       "      <td>156.037383</td>\n",
       "    </tr>\n",
       "    <tr>\n",
       "      <th>28</th>\n",
       "      <td>H</td>\n",
       "      <td>27.0</td>\n",
       "      <td>1.139673</td>\n",
       "      <td>2.0</td>\n",
       "      <td>108.068992</td>\n",
       "      <td>9.0</td>\n",
       "      <td>48.729034</td>\n",
       "    </tr>\n",
       "    <tr>\n",
       "      <th>29</th>\n",
       "      <td>H</td>\n",
       "      <td>27.0</td>\n",
       "      <td>1.013970</td>\n",
       "      <td>2.0</td>\n",
       "      <td>116.103706</td>\n",
       "      <td>9.0</td>\n",
       "      <td>173.100296</td>\n",
       "    </tr>\n",
       "    <tr>\n",
       "      <th>30</th>\n",
       "      <td>H</td>\n",
       "      <td>27.0</td>\n",
       "      <td>1.132098</td>\n",
       "      <td>2.0</td>\n",
       "      <td>108.508067</td>\n",
       "      <td>9.0</td>\n",
       "      <td>298.639448</td>\n",
       "    </tr>\n",
       "    <tr>\n",
       "      <th>55</th>\n",
       "      <td>H</td>\n",
       "      <td>3.0</td>\n",
       "      <td>0.890000</td>\n",
       "      <td>6.0</td>\n",
       "      <td>127.750000</td>\n",
       "      <td>8.0</td>\n",
       "      <td>309.305392</td>\n",
       "    </tr>\n",
       "    <tr>\n",
       "      <th>56</th>\n",
       "      <td>H</td>\n",
       "      <td>3.0</td>\n",
       "      <td>0.890000</td>\n",
       "      <td>55.0</td>\n",
       "      <td>104.499999</td>\n",
       "      <td>6.0</td>\n",
       "      <td>180.000000</td>\n",
       "    </tr>\n",
       "    <tr>\n",
       "      <th>39</th>\n",
       "      <td>H</td>\n",
       "      <td>34.0</td>\n",
       "      <td>1.139673</td>\n",
       "      <td>21.0</td>\n",
       "      <td>108.068992</td>\n",
       "      <td>50.0</td>\n",
       "      <td>228.729092</td>\n",
       "    </tr>\n",
       "    <tr>\n",
       "      <th>40</th>\n",
       "      <td>H</td>\n",
       "      <td>33.0</td>\n",
       "      <td>1.139673</td>\n",
       "      <td>14.0</td>\n",
       "      <td>108.068992</td>\n",
       "      <td>49.0</td>\n",
       "      <td>131.270908</td>\n",
       "    </tr>\n",
       "    <tr>\n",
       "      <th>45</th>\n",
       "      <td>H</td>\n",
       "      <td>34.0</td>\n",
       "      <td>1.132098</td>\n",
       "      <td>39.0</td>\n",
       "      <td>102.192841</td>\n",
       "      <td>21.0</td>\n",
       "      <td>114.337231</td>\n",
       "    </tr>\n",
       "    <tr>\n",
       "      <th>46</th>\n",
       "      <td>H</td>\n",
       "      <td>33.0</td>\n",
       "      <td>1.132098</td>\n",
       "      <td>40.0</td>\n",
       "      <td>102.192841</td>\n",
       "      <td>14.0</td>\n",
       "      <td>245.662769</td>\n",
       "    </tr>\n",
       "    <tr>\n",
       "      <th>51</th>\n",
       "      <td>H</td>\n",
       "      <td>1.0</td>\n",
       "      <td>0.970000</td>\n",
       "      <td>2.0</td>\n",
       "      <td>106.000000</td>\n",
       "      <td>9.0</td>\n",
       "      <td>180.000000</td>\n",
       "    </tr>\n",
       "    <tr>\n",
       "      <th>52</th>\n",
       "      <td>H</td>\n",
       "      <td>4.0</td>\n",
       "      <td>0.970000</td>\n",
       "      <td>5.0</td>\n",
       "      <td>106.000000</td>\n",
       "      <td>15.0</td>\n",
       "      <td>180.000000</td>\n",
       "    </tr>\n",
       "    <tr>\n",
       "      <th>42</th>\n",
       "      <td>H</td>\n",
       "      <td>34.0</td>\n",
       "      <td>1.013970</td>\n",
       "      <td>45.0</td>\n",
       "      <td>110.811919</td>\n",
       "      <td>39.0</td>\n",
       "      <td>242.595217</td>\n",
       "    </tr>\n",
       "    <tr>\n",
       "      <th>43</th>\n",
       "      <td>H</td>\n",
       "      <td>33.0</td>\n",
       "      <td>1.013970</td>\n",
       "      <td>46.0</td>\n",
       "      <td>110.811919</td>\n",
       "      <td>40.0</td>\n",
       "      <td>117.404783</td>\n",
       "    </tr>\n",
       "  </tbody>\n",
       "</table>\n",
       "</div>"
      ],
      "text/plain": [
       "   atom  bond_with      bond  angle_with       angle  dihedral_with  \\\n",
       "7     O        NaN       NaN         NaN         NaN            NaN   \n",
       "11   Cr        7.0  1.952026         NaN         NaN            NaN   \n",
       "53    H        7.0  0.890000        11.0  119.132614            NaN   \n",
       "6    Cr        7.0  1.952026        11.0  121.734771           53.0   \n",
       "16    O        6.0  1.949800         7.0   90.270495           11.0   \n",
       "8     O        6.0  1.949800         7.0   90.270495           11.0   \n",
       "3     O        6.0  1.951342         7.0  180.000000           11.0   \n",
       "9     O        6.0  1.936862         7.0   86.222347           11.0   \n",
       "15    O        6.0  1.936862         7.0   86.222347           11.0   \n",
       "5     C       15.0  1.304149         6.0  139.863676            7.0   \n",
       "4     O        5.0  1.304149        15.0  113.561691            6.0   \n",
       "31    C        5.0  1.460789        15.0  123.219166            6.0   \n",
       "41    H       31.0  1.139673         5.0  108.068992           15.0   \n",
       "44    H       31.0  1.013970         5.0  116.103706           15.0   \n",
       "47    H       31.0  1.132098         5.0  108.508067           15.0   \n",
       "12    O       11.0  1.949800         7.0   90.270495           53.0   \n",
       "10    C       12.0  1.303680        11.0  138.980553            7.0   \n",
       "24    C       10.0  1.460790        12.0  121.477117           11.0   \n",
       "25    H       24.0  1.092764        10.0  110.882645           12.0   \n",
       "26    H       24.0  1.092501        10.0  110.887878           12.0   \n",
       "36    H       24.0  1.092764        10.0  110.882645           12.0   \n",
       "20    O       11.0  1.949800        12.0  101.387774            7.0   \n",
       "17    C       20.0  1.303680        11.0  138.980553           12.0   \n",
       "32    C       17.0  1.460790        20.0  121.477117           11.0   \n",
       "35    H       32.0  1.092764        17.0  110.882645           20.0   \n",
       "37    H       32.0  1.092764        17.0  110.882645           20.0   \n",
       "38    H       32.0  1.092501        17.0  110.887878           20.0   \n",
       "13    O       11.0  1.936862        12.0   89.746747           20.0   \n",
       "14    C       13.0  1.304149        11.0  139.863676           12.0   \n",
       "33    C       14.0  1.460789        13.0  123.219166           11.0   \n",
       "22    O       14.0  1.304149        13.0  113.561691           11.0   \n",
       "49    H       22.0  0.970000        14.0  106.000000           13.0   \n",
       "19    O       11.0  1.936862        13.0   78.948348           12.0   \n",
       "21    C       19.0  1.304149        11.0  139.863676           13.0   \n",
       "34    C       21.0  1.460789        19.0  123.219166           11.0   \n",
       "23    O       21.0  1.304149        19.0  113.561691           11.0   \n",
       "50    H       23.0  0.970000        21.0  106.000000           19.0   \n",
       "18    O       11.0  1.951342        13.0   93.764988           19.0   \n",
       "48    H       18.0  0.890000        11.0  127.750000           13.0   \n",
       "54    H       18.0  0.890000        11.0  127.750000           13.0   \n",
       "2     C        9.0  1.304149         6.0  139.863676           15.0   \n",
       "1     O        2.0  1.304149         9.0  113.561691            6.0   \n",
       "27    C        2.0  1.460789         9.0  123.219166            6.0   \n",
       "28    H       27.0  1.139673         2.0  108.068992            9.0   \n",
       "29    H       27.0  1.013970         2.0  116.103706            9.0   \n",
       "30    H       27.0  1.132098         2.0  108.508067            9.0   \n",
       "55    H        3.0  0.890000         6.0  127.750000            8.0   \n",
       "56    H        3.0  0.890000        55.0  104.499999            6.0   \n",
       "39    H       34.0  1.139673        21.0  108.068992           50.0   \n",
       "40    H       33.0  1.139673        14.0  108.068992           49.0   \n",
       "45    H       34.0  1.132098        39.0  102.192841           21.0   \n",
       "46    H       33.0  1.132098        40.0  102.192841           14.0   \n",
       "51    H        1.0  0.970000         2.0  106.000000            9.0   \n",
       "52    H        4.0  0.970000         5.0  106.000000           15.0   \n",
       "42    H       34.0  1.013970        45.0  110.811919           39.0   \n",
       "43    H       33.0  1.013970        46.0  110.811919           40.0   \n",
       "\n",
       "      dihedral  \n",
       "7          NaN  \n",
       "11         NaN  \n",
       "53         NaN  \n",
       "6   180.000000  \n",
       "16  309.305333  \n",
       "8    50.694667  \n",
       "3   180.000000  \n",
       "9   140.422999  \n",
       "15  219.577001  \n",
       "5   185.520489  \n",
       "4    23.962716  \n",
       "31  203.962617  \n",
       "41  311.270966  \n",
       "44  186.899704  \n",
       "47   61.360552  \n",
       "12  129.305333  \n",
       "10   18.815334  \n",
       "24  188.190326  \n",
       "25  209.990809  \n",
       "26   89.999961  \n",
       "36  330.009113  \n",
       "20  269.669588  \n",
       "17   71.515078  \n",
       "32  171.809674  \n",
       "35   29.990887  \n",
       "37  150.009191  \n",
       "38  270.000039  \n",
       "13  176.551481  \n",
       "14   95.232681  \n",
       "33  203.962617  \n",
       "22   23.962716  \n",
       "49  180.000000  \n",
       "19  177.170556  \n",
       "21   87.596763  \n",
       "34  156.037383  \n",
       "23  336.037284  \n",
       "50  180.000000  \n",
       "18   93.106761  \n",
       "48  140.423689  \n",
       "54  320.423689  \n",
       "2    87.596763  \n",
       "1   336.037284  \n",
       "27  156.037383  \n",
       "28   48.729034  \n",
       "29  173.100296  \n",
       "30  298.639448  \n",
       "55  309.305392  \n",
       "56  180.000000  \n",
       "39  228.729092  \n",
       "40  131.270908  \n",
       "45  114.337231  \n",
       "46  245.662769  \n",
       "51  180.000000  \n",
       "52  180.000000  \n",
       "42  242.595217  \n",
       "43  117.404783  "
      ]
     },
     "execution_count": 8,
     "metadata": {},
     "output_type": "execute_result"
    }
   ],
   "source": [
    "z_small"
   ]
  },
  {
   "cell_type": "markdown",
   "metadata": {},
   "source": [
    "With internal coordinates it is very easy to modify the angle of fragments. In cartesian coordinates this would involve a lot of trigonometry. So let's get the fragment."
   ]
  },
  {
   "cell_type": "code",
   "execution_count": 11,
   "metadata": {
    "collapsed": true
   },
   "outputs": [],
   "source": [
    "fragment = middle.get_fragment([(13, 23), (152, 11), (2, 9)])\n",
    "fragment.write('fragment.xyz')"
   ]
  },
  {
   "cell_type": "code",
   "execution_count": 12,
   "metadata": {
    "collapsed": true
   },
   "outputs": [],
   "source": [
    "# keep a clean directory\n",
    "!rm fragment.xyz"
   ]
  },
  {
   "cell_type": "code",
   "execution_count": 13,
   "metadata": {
    "collapsed": true
   },
   "outputs": [],
   "source": [
    "connection = np.array([[11, 152, 5, 63], [23, 11, 152, 13], [9, 11, 23, 152]])"
   ]
  },
  {
   "cell_type": "code",
   "execution_count": 14,
   "metadata": {},
   "outputs": [
    {
     "name": "stderr",
     "output_type": "stream",
     "text": [
      "/home/mcocdawc/code/git/chemcoord/chemcoord/cartesian_coordinates/cartesian_class_core.py:427: UserWarning: You specified use_valency=False (or used the default) and provided a geometry with over saturated atoms. This means that bonds are not cut even if their number exceeds the valency. If you don't want to see this warning execute cc.settings['show_warnings']['valency'] = False. For a permament change have a look at the configuration submodule. The problematic indices are:\n",
      "[4, 8, 14, 16, 151]\n",
      "  warnings.warn(warning_string)\n",
      "/home/mcocdawc/code/git/chemcoord/chemcoord/cartesian_coordinates/cartesian_class_core.py:965: RuntimeWarning: invalid value encountered in true_divide\n",
      "  n1 = N1 / np.linalg.norm(N1, axis=1)[:, None]\n",
      "/home/mcocdawc/code/git/chemcoord/chemcoord/cartesian_coordinates/cartesian_class_core.py:976: RuntimeWarning: invalid value encountered in less\n",
      "  np.sum(BA * np.cross(n1, n2, axis=1), axis=1) < 0)\n"
     ]
    }
   ],
   "source": [
    "z_middle = middle.to_zmat(fragment_list=[(fragment, connection)])"
   ]
  },
  {
   "cell_type": "code",
   "execution_count": 15,
   "metadata": {
    "collapsed": true
   },
   "outputs": [],
   "source": [
    "list_of_zmats = [z_middle]\n",
    "for angle in range(80, 150, 5):\n",
    "    # The copy command is necessary since the Cartesian class is mutable\n",
    "    to_add = z_middle.copy()\n",
    "    to_add[11, 'angle'] = angle\n",
    "    list_of_zmats.append(to_add)"
   ]
  },
  {
   "cell_type": "code",
   "execution_count": 16,
   "metadata": {
    "collapsed": true
   },
   "outputs": [],
   "source": [
    "list_of_cartesians = [zmat.to_xyz() for zmat in list_of_zmats]"
   ]
  },
  {
   "cell_type": "code",
   "execution_count": 18,
   "metadata": {
    "collapsed": true
   },
   "outputs": [],
   "source": [
    "cc.xyz_functions.view(list_of_cartesians)"
   ]
  },
  {
   "cell_type": "markdown",
   "metadata": {},
   "source": [
    "Now have a look at ``benzene_movement.molden``."
   ]
  },
  {
   "cell_type": "code",
   "execution_count": 26,
   "metadata": {
    "collapsed": true
   },
   "outputs": [],
   "source": [
    "cc.write(list_of_cartesians, 'benzene_movement.molden', filetype='molden')"
   ]
  },
  {
   "cell_type": "code",
   "execution_count": 27,
   "metadata": {
    "collapsed": true
   },
   "outputs": [],
   "source": [
    "# keep a clean directory\n",
    "!rm benzene_movement.molden"
   ]
  },
  {
   "cell_type": "markdown",
   "metadata": {},
   "source": [
    "# Dealing with Linearity"
   ]
  },
  {
   "cell_type": "markdown",
   "metadata": {},
   "source": [
    "(Local) linearity is a typical pitfall for conversion to zmatrices and back. The following lines shows that this is no problem for this module. \n",
    "Keep in mind that it **does not use** dummy atoms."
   ]
  },
  {
   "cell_type": "markdown",
   "metadata": {},
   "source": [
    "## Linear molecule"
   ]
  },
  {
   "cell_type": "code",
   "execution_count": 28,
   "metadata": {
    "collapsed": true
   },
   "outputs": [],
   "source": [
    "lmolecule = cc.read('nasty_linear.xyz', get_bonds=False)"
   ]
  },
  {
   "cell_type": "code",
   "execution_count": 29,
   "metadata": {
    "collapsed": true
   },
   "outputs": [],
   "source": [
    "lmolecule2 = lmolecule.to_zmat(check_linearity=False).to_xyz()"
   ]
  },
  {
   "cell_type": "code",
   "execution_count": 30,
   "metadata": {
    "collapsed": true
   },
   "outputs": [],
   "source": [
    "cc.write([lmolecule, lmolecule2], 'transformation_linear.molden', filetype='molden')"
   ]
  },
  {
   "cell_type": "markdown",
   "metadata": {},
   "source": [
    "## Cube"
   ]
  },
  {
   "cell_type": "code",
   "execution_count": 31,
   "metadata": {
    "collapsed": true
   },
   "outputs": [],
   "source": [
    "cubic = cc.read('nasty_cube.xyz')"
   ]
  },
  {
   "cell_type": "code",
   "execution_count": 32,
   "metadata": {
    "collapsed": true
   },
   "outputs": [],
   "source": [
    "cubic2 = cubic.to_zmat(check_linearity=True).to_xyz()"
   ]
  },
  {
   "cell_type": "code",
   "execution_count": 33,
   "metadata": {
    "collapsed": true
   },
   "outputs": [],
   "source": [
    "cc.write([cubic, cubic2], 'transformation_cubic.molden', filetype='molden')"
   ]
  },
  {
   "cell_type": "code",
   "execution_count": 34,
   "metadata": {
    "collapsed": true
   },
   "outputs": [],
   "source": [
    "# keep a clean directory\n",
    "!rm transformation_cubic.molden transformation_linear.molden"
   ]
  },
  {
   "cell_type": "markdown",
   "metadata": {
    "collapsed": true
   },
   "source": [
    "# Customization (advanced)"
   ]
  },
  {
   "cell_type": "markdown",
   "metadata": {},
   "source": [
    "You can safely inherit from the classes in this module"
   ]
  },
  {
   "cell_type": "code",
   "execution_count": 35,
   "metadata": {
    "collapsed": true
   },
   "outputs": [],
   "source": [
    "class my_tailored_class(cc.xyz_functions.Cartesian):\n",
    "    def my_number_one_method(self):\n",
    "        return 1"
   ]
  },
  {
   "cell_type": "code",
   "execution_count": 36,
   "metadata": {},
   "outputs": [
    {
     "data": {
      "text/plain": [
       "chemcoord.xyz_functions.Cartesian"
      ]
     },
     "execution_count": 36,
     "metadata": {},
     "output_type": "execute_result"
    }
   ],
   "source": [
    "molecule = cc.read('MIL53_small.xyz')\n",
    "type(molecule)"
   ]
  },
  {
   "cell_type": "markdown",
   "metadata": {},
   "source": [
    "Notice how all old methods from Cartesian return an object of your tailored class"
   ]
  },
  {
   "cell_type": "code",
   "execution_count": 37,
   "metadata": {},
   "outputs": [
    {
     "data": {
      "text/plain": [
       "__main__.my_tailored_class"
      ]
     },
     "execution_count": 37,
     "metadata": {},
     "output_type": "execute_result"
    }
   ],
   "source": [
    "my_molecule = my_tailored_class.read('MIL53_small.xyz')\n",
    "type(my_molecule)"
   ]
  },
  {
   "cell_type": "code",
   "execution_count": 38,
   "metadata": {},
   "outputs": [
    {
     "data": {
      "text/plain": [
       "__main__.my_tailored_class"
      ]
     },
     "execution_count": 38,
     "metadata": {},
     "output_type": "execute_result"
    }
   ],
   "source": [
    "type(my_molecule.inertia()['transformed_Cartesian'])"
   ]
  },
  {
   "cell_type": "code",
   "execution_count": 39,
   "metadata": {},
   "outputs": [
    {
     "data": {
      "text/plain": [
       "1"
      ]
     },
     "execution_count": 39,
     "metadata": {},
     "output_type": "execute_result"
    }
   ],
   "source": [
    "my_molecule.inertia()['transformed_Cartesian'].my_number_one_method()"
   ]
  },
  {
   "cell_type": "code",
   "execution_count": null,
   "metadata": {
    "collapsed": true
   },
   "outputs": [],
   "source": []
  }
 ],
 "metadata": {
  "anaconda-cloud": {},
  "kernelspec": {
   "display_name": "Python [conda env:cc_dev]",
   "language": "python",
   "name": "conda-env-cc_dev-py"
  },
  "language_info": {
   "codemirror_mode": {
    "name": "ipython",
    "version": 3
   },
   "file_extension": ".py",
   "mimetype": "text/x-python",
   "name": "python",
   "nbconvert_exporter": "python",
   "pygments_lexer": "ipython3",
   "version": "3.5.3"
  }
 },
 "nbformat": 4,
 "nbformat_minor": 1
}
